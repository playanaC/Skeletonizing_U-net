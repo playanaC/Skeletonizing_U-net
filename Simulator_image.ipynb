{
  "nbformat": 4,
  "nbformat_minor": 0,
  "metadata": {
    "colab": {
      "name": "Simulator_image.ipynb",
      "provenance": [],
      "authorship_tag": "ABX9TyOk8/5HhEHRoNhia8qgfHts",
      "include_colab_link": true
    },
    "kernelspec": {
      "name": "python3",
      "display_name": "Python 3"
    },
    "language_info": {
      "name": "python"
    }
  },
  "cells": [
    {
      "cell_type": "markdown",
      "metadata": {
        "id": "view-in-github",
        "colab_type": "text"
      },
      "source": [
        "<a href=\"https://colab.research.google.com/github/playanaC/Skeletonizing_Unet/blob/main/Simulator_image.ipynb\" target=\"_parent\"><img src=\"https://colab.research.google.com/assets/colab-badge.svg\" alt=\"Open In Colab\"/></a>"
      ]
    },
    {
      "cell_type": "markdown",
      "source": [
        "Install libraries"
      ],
      "metadata": {
        "id": "qmdAbOqJ4RCG"
      }
    },
    {
      "cell_type": "code",
      "source": [
        "!apt-get install swig"
      ],
      "metadata": {
        "colab": {
          "base_uri": "https://localhost:8080/"
        },
        "id": "f06BY1bg4OSY",
        "outputId": "d00a1a93-08a9-49bd-f8cf-39b880b99650"
      },
      "execution_count": 1,
      "outputs": [
        {
          "output_type": "stream",
          "name": "stdout",
          "text": [
            "Reading package lists... Done\n",
            "Building dependency tree       \n",
            "Reading state information... Done\n",
            "The following additional packages will be installed:\n",
            "  swig3.0\n",
            "Suggested packages:\n",
            "  swig-doc swig-examples swig3.0-examples swig3.0-doc\n",
            "The following NEW packages will be installed:\n",
            "  swig swig3.0\n",
            "0 upgraded, 2 newly installed, 0 to remove and 39 not upgraded.\n",
            "Need to get 1,100 kB of archives.\n",
            "After this operation, 5,822 kB of additional disk space will be used.\n",
            "Get:1 http://archive.ubuntu.com/ubuntu bionic/universe amd64 swig3.0 amd64 3.0.12-1 [1,094 kB]\n",
            "Get:2 http://archive.ubuntu.com/ubuntu bionic/universe amd64 swig amd64 3.0.12-1 [6,460 B]\n",
            "Fetched 1,100 kB in 1s (1,056 kB/s)\n",
            "Selecting previously unselected package swig3.0.\n",
            "(Reading database ... 155335 files and directories currently installed.)\n",
            "Preparing to unpack .../swig3.0_3.0.12-1_amd64.deb ...\n",
            "Unpacking swig3.0 (3.0.12-1) ...\n",
            "Selecting previously unselected package swig.\n",
            "Preparing to unpack .../swig_3.0.12-1_amd64.deb ...\n",
            "Unpacking swig (3.0.12-1) ...\n",
            "Setting up swig3.0 (3.0.12-1) ...\n",
            "Setting up swig (3.0.12-1) ...\n",
            "Processing triggers for man-db (2.8.3-2ubuntu0.1) ...\n"
          ]
        }
      ]
    },
    {
      "cell_type": "markdown",
      "source": [
        "Clone github"
      ],
      "metadata": {
        "id": "qx_xfn1L4DT2"
      }
    },
    {
      "cell_type": "code",
      "execution_count": 2,
      "metadata": {
        "colab": {
          "base_uri": "https://localhost:8080/"
        },
        "id": "UPVQk60X35Br",
        "outputId": "f49e0c21-bca4-4988-8e87-155e3fda8b74"
      },
      "outputs": [
        {
          "output_type": "stream",
          "name": "stdout",
          "text": [
            "Cloning into 'Skeletonizing_Unet'...\n",
            "remote: Enumerating objects: 825, done.\u001b[K\n",
            "remote: Counting objects: 100% (1/1), done.\u001b[K\n",
            "remote: Total 825 (delta 0), reused 0 (delta 0), pack-reused 824\u001b[K\n",
            "Receiving objects: 100% (825/825), 6.83 MiB | 17.40 MiB/s, done.\n",
            "Resolving deltas: 100% (78/78), done.\n"
          ]
        }
      ],
      "source": [
        "! git clone https://github.com/playanaC/Skeletonizing_Unet.git"
      ]
    },
    {
      "cell_type": "markdown",
      "source": [
        "Folder files SWIG - C++"
      ],
      "metadata": {
        "id": "4Pu9B04T4gpX"
      }
    },
    {
      "cell_type": "code",
      "source": [
        "%cd Skeletonizing_Unet/Simulator_image/"
      ],
      "metadata": {
        "colab": {
          "base_uri": "https://localhost:8080/"
        },
        "id": "D7_GkAEM4hhy",
        "outputId": "76a99953-60b6-44b7-8141-613d54f8ae09"
      },
      "execution_count": 3,
      "outputs": [
        {
          "output_type": "stream",
          "name": "stdout",
          "text": [
            "/content/Skeletonizing_Unet/Simulator_image\n"
          ]
        }
      ]
    },
    {
      "cell_type": "markdown",
      "source": [
        "Find opencv folder"
      ],
      "metadata": {
        "id": "QhJP0Qnj4oww"
      }
    },
    {
      "cell_type": "code",
      "source": [
        "!pkg-config --cflags --libs opencv"
      ],
      "metadata": {
        "colab": {
          "base_uri": "https://localhost:8080/"
        },
        "id": "2Q7xeSr94pqH",
        "outputId": "6b6fa358-44fd-444d-a900-7cbb8ea294c8"
      },
      "execution_count": 4,
      "outputs": [
        {
          "output_type": "stream",
          "name": "stdout",
          "text": [
            "-I/usr/include/opencv -lopencv_shape -lopencv_stitching -lopencv_superres -lopencv_videostab -lopencv_aruco -lopencv_bgsegm -lopencv_bioinspired -lopencv_ccalib -lopencv_datasets -lopencv_dpm -lopencv_face -lopencv_freetype -lopencv_fuzzy -lopencv_hdf -lopencv_line_descriptor -lopencv_optflow -lopencv_video -lopencv_plot -lopencv_reg -lopencv_saliency -lopencv_stereo -lopencv_structured_light -lopencv_phase_unwrapping -lopencv_rgbd -lopencv_viz -lopencv_surface_matching -lopencv_text -lopencv_ximgproc -lopencv_calib3d -lopencv_features2d -lopencv_flann -lopencv_xobjdetect -lopencv_objdetect -lopencv_ml -lopencv_xphoto -lopencv_highgui -lopencv_videoio -lopencv_imgcodecs -lopencv_photo -lopencv_imgproc -lopencv_core\n"
          ]
        }
      ]
    },
    {
      "cell_type": "markdown",
      "source": [
        "Update g++ compiler\n"
      ],
      "metadata": {
        "id": "WZhz8PcC40zm"
      }
    },
    {
      "cell_type": "code",
      "source": [
        "!g++ -v"
      ],
      "metadata": {
        "colab": {
          "base_uri": "https://localhost:8080/"
        },
        "id": "stQVdVVZ6niK",
        "outputId": "12e92689-b907-46f0-a98b-c6635edda26b"
      },
      "execution_count": 5,
      "outputs": [
        {
          "output_type": "stream",
          "name": "stdout",
          "text": [
            "Using built-in specs.\n",
            "COLLECT_GCC=g++\n",
            "COLLECT_LTO_WRAPPER=/usr/lib/gcc/x86_64-linux-gnu/7/lto-wrapper\n",
            "OFFLOAD_TARGET_NAMES=nvptx-none\n",
            "OFFLOAD_TARGET_DEFAULT=1\n",
            "Target: x86_64-linux-gnu\n",
            "Configured with: ../src/configure -v --with-pkgversion='Ubuntu 7.5.0-3ubuntu1~18.04' --with-bugurl=file:///usr/share/doc/gcc-7/README.Bugs --enable-languages=c,ada,c++,go,brig,d,fortran,objc,obj-c++ --prefix=/usr --with-gcc-major-version-only --program-suffix=-7 --program-prefix=x86_64-linux-gnu- --enable-shared --enable-linker-build-id --libexecdir=/usr/lib --without-included-gettext --enable-threads=posix --libdir=/usr/lib --enable-nls --enable-bootstrap --enable-clocale=gnu --enable-libstdcxx-debug --enable-libstdcxx-time=yes --with-default-libstdcxx-abi=new --enable-gnu-unique-object --disable-vtable-verify --enable-libmpx --enable-plugin --enable-default-pie --with-system-zlib --with-target-system-zlib --enable-objc-gc=auto --enable-multiarch --disable-werror --with-arch-32=i686 --with-abi=m64 --with-multilib-list=m32,m64,mx32 --enable-multilib --with-tune=generic --enable-offload-targets=nvptx-none --without-cuda-driver --enable-checking=release --build=x86_64-linux-gnu --host=x86_64-linux-gnu --target=x86_64-linux-gnu\n",
            "Thread model: posix\n",
            "gcc version 7.5.0 (Ubuntu 7.5.0-3ubuntu1~18.04) \n"
          ]
        }
      ]
    },
    {
      "cell_type": "code",
      "source": [
        "!apt install g++-9\n",
        "!update-alternatives --remove-all gcc \n",
        "!update-alternatives --remove-all g++\n",
        "\n",
        "!update-alternatives --install /usr/bin/gcc gcc /usr/bin/gcc-9 20\n",
        "!update-alternatives --install /usr/bin/g++ g++ /usr/bin/g++-9 20\n",
        "\n",
        "!update-alternatives --install /usr/bin/cc cc /usr/bin/gcc 30\n",
        "!update-alternatives --set cc /usr/bin/gcc\n",
        "\n",
        "!update-alternatives --install /usr/bin/c++ c++ /usr/bin/g++ 30\n",
        "!update-alternatives --set c++ /usr/bin/g++"
      ],
      "metadata": {
        "colab": {
          "base_uri": "https://localhost:8080/"
        },
        "id": "lPiTMVce_R3I",
        "outputId": "210eec45-1c58-4e5d-a6e6-d950b0db039e"
      },
      "execution_count": 6,
      "outputs": [
        {
          "output_type": "stream",
          "name": "stdout",
          "text": [
            "Reading package lists... Done\n",
            "Building dependency tree       \n",
            "Reading state information... Done\n",
            "Note, selecting 'python-clang-9' for regex 'g++-9'\n",
            "Note, selecting 'clang-9' for regex 'g++-9'\n",
            "Note, selecting 'clang-9-examples' for regex 'g++-9'\n",
            "Note, selecting 'libclang-9-dev' for regex 'g++-9'\n",
            "Note, selecting 'clang-9-doc' for regex 'g++-9'\n",
            "The following additional packages will be installed:\n",
            "  binfmt-support fonts-mathjax libclang-common-9-dev libclang-cpp9 libclang1-9\n",
            "  libffi-dev libjs-mathjax libllvm9 libomp-9-dev libomp5-9 libpfm4 llvm-9\n",
            "  llvm-9-dev llvm-9-runtime llvm-9-tools python-chardet python-pkg-resources\n",
            "  python-pygments python-yaml python3-pkg-resources python3-pygments\n",
            "  python3-yaml\n",
            "Suggested packages:\n",
            "  fonts-mathjax-extras fonts-stix libjs-mathjax-doc libomp-9-doc llvm-9-doc\n",
            "  python-setuptools ttf-bitstream-vera python3-setuptools\n",
            "The following NEW packages will be installed:\n",
            "  binfmt-support clang-9 clang-9-doc clang-9-examples fonts-mathjax\n",
            "  libclang-9-dev libclang-common-9-dev libclang-cpp9 libclang1-9 libffi-dev\n",
            "  libjs-mathjax libllvm9 libomp-9-dev libomp5-9 libpfm4 llvm-9 llvm-9-dev\n",
            "  llvm-9-runtime llvm-9-tools python-chardet python-clang-9\n",
            "  python-pkg-resources python-pygments python-yaml python3-pkg-resources\n",
            "  python3-pygments python3-yaml\n",
            "0 upgraded, 27 newly installed, 0 to remove and 39 not upgraded.\n",
            "Need to get 112 MB of archives.\n",
            "After this operation, 717 MB of additional disk space will be used.\n",
            "Get:1 http://archive.ubuntu.com/ubuntu bionic/main amd64 python3-yaml amd64 3.12-1build2 [109 kB]\n",
            "Get:2 http://archive.ubuntu.com/ubuntu bionic/main amd64 binfmt-support amd64 2.1.8-2 [51.6 kB]\n",
            "Get:3 http://archive.ubuntu.com/ubuntu bionic-updates/main amd64 libllvm9 amd64 1:9-2~ubuntu18.04.2 [14.8 MB]\n",
            "Get:4 http://archive.ubuntu.com/ubuntu bionic-updates/universe amd64 libclang-cpp9 amd64 1:9-2~ubuntu18.04.2 [25.1 MB]\n",
            "Get:5 http://archive.ubuntu.com/ubuntu bionic-updates/universe amd64 libclang-common-9-dev amd64 1:9-2~ubuntu18.04.2 [3,861 kB]\n",
            "Get:6 http://archive.ubuntu.com/ubuntu bionic-updates/universe amd64 libclang1-9 amd64 1:9-2~ubuntu18.04.2 [6,701 kB]\n",
            "Get:7 http://archive.ubuntu.com/ubuntu bionic-updates/universe amd64 clang-9 amd64 1:9-2~ubuntu18.04.2 [1,109 kB]\n",
            "Get:8 http://archive.ubuntu.com/ubuntu bionic/universe amd64 fonts-mathjax all 2.7.3+dfsg-1 [2,208 kB]\n",
            "Get:9 http://archive.ubuntu.com/ubuntu bionic/universe amd64 libjs-mathjax all 2.7.3+dfsg-1 [5,653 kB]\n",
            "Get:10 http://archive.ubuntu.com/ubuntu bionic-updates/universe amd64 clang-9-doc all 1:9-2~ubuntu18.04.2 [1,048 kB]\n",
            "Get:11 http://archive.ubuntu.com/ubuntu bionic-updates/universe amd64 clang-9-examples amd64 1:9-2~ubuntu18.04.2 [14.8 kB]\n",
            "Get:12 http://archive.ubuntu.com/ubuntu bionic-updates/universe amd64 libclang-9-dev amd64 1:9-2~ubuntu18.04.2 [16.9 MB]\n",
            "Get:13 http://archive.ubuntu.com/ubuntu bionic-updates/universe amd64 libomp5-9 amd64 1:9-2~ubuntu18.04.2 [299 kB]\n",
            "Get:14 http://archive.ubuntu.com/ubuntu bionic-updates/universe amd64 libomp-9-dev amd64 1:9-2~ubuntu18.04.2 [58.6 kB]\n",
            "Get:15 http://archive.ubuntu.com/ubuntu bionic-updates/universe amd64 llvm-9-runtime amd64 1:9-2~ubuntu18.04.2 [176 kB]\n",
            "Get:16 http://archive.ubuntu.com/ubuntu bionic/main amd64 libpfm4 amd64 4.9.0-2 [225 kB]\n",
            "Get:17 http://archive.ubuntu.com/ubuntu bionic-updates/universe amd64 llvm-9 amd64 1:9-2~ubuntu18.04.2 [4,874 kB]\n",
            "Get:18 http://archive.ubuntu.com/ubuntu bionic/main amd64 libffi-dev amd64 3.2.1-8 [156 kB]\n",
            "Get:19 http://archive.ubuntu.com/ubuntu bionic-updates/main amd64 python-pygments all 2.2.0+dfsg-1ubuntu0.2 [576 kB]\n",
            "Get:20 http://archive.ubuntu.com/ubuntu bionic/main amd64 python-yaml amd64 3.12-1build2 [115 kB]\n",
            "Get:21 http://archive.ubuntu.com/ubuntu bionic-updates/main amd64 python3-pygments all 2.2.0+dfsg-1ubuntu0.2 [574 kB]\n",
            "Get:22 http://archive.ubuntu.com/ubuntu bionic-updates/universe amd64 llvm-9-tools amd64 1:9-2~ubuntu18.04.2 [250 kB]\n",
            "Get:23 http://archive.ubuntu.com/ubuntu bionic-updates/universe amd64 llvm-9-dev amd64 1:9-2~ubuntu18.04.2 [26.6 MB]\n",
            "Get:24 http://archive.ubuntu.com/ubuntu bionic/main amd64 python-pkg-resources all 39.0.1-2 [128 kB]\n",
            "Get:25 http://archive.ubuntu.com/ubuntu bionic/main amd64 python-chardet all 3.0.4-1 [80.3 kB]\n",
            "Get:26 http://archive.ubuntu.com/ubuntu bionic-updates/universe amd64 python-clang-9 amd64 1:9-2~ubuntu18.04.2 [31.8 kB]\n",
            "Get:27 http://archive.ubuntu.com/ubuntu bionic/main amd64 python3-pkg-resources all 39.0.1-2 [98.8 kB]\n",
            "Fetched 112 MB in 6s (17.5 MB/s)\n",
            "Selecting previously unselected package python3-yaml.\n",
            "(Reading database ... 156126 files and directories currently installed.)\n",
            "Preparing to unpack .../00-python3-yaml_3.12-1build2_amd64.deb ...\n",
            "Unpacking python3-yaml (3.12-1build2) ...\n",
            "Selecting previously unselected package binfmt-support.\n",
            "Preparing to unpack .../01-binfmt-support_2.1.8-2_amd64.deb ...\n",
            "Unpacking binfmt-support (2.1.8-2) ...\n",
            "Selecting previously unselected package libllvm9:amd64.\n",
            "Preparing to unpack .../02-libllvm9_1%3a9-2~ubuntu18.04.2_amd64.deb ...\n",
            "Unpacking libllvm9:amd64 (1:9-2~ubuntu18.04.2) ...\n",
            "Selecting previously unselected package libclang-cpp9.\n",
            "Preparing to unpack .../03-libclang-cpp9_1%3a9-2~ubuntu18.04.2_amd64.deb ...\n",
            "Unpacking libclang-cpp9 (1:9-2~ubuntu18.04.2) ...\n",
            "Selecting previously unselected package libclang-common-9-dev.\n",
            "Preparing to unpack .../04-libclang-common-9-dev_1%3a9-2~ubuntu18.04.2_amd64.deb ...\n",
            "Unpacking libclang-common-9-dev (1:9-2~ubuntu18.04.2) ...\n",
            "Selecting previously unselected package libclang1-9.\n",
            "Preparing to unpack .../05-libclang1-9_1%3a9-2~ubuntu18.04.2_amd64.deb ...\n",
            "Unpacking libclang1-9 (1:9-2~ubuntu18.04.2) ...\n",
            "Selecting previously unselected package clang-9.\n",
            "Preparing to unpack .../06-clang-9_1%3a9-2~ubuntu18.04.2_amd64.deb ...\n",
            "Unpacking clang-9 (1:9-2~ubuntu18.04.2) ...\n",
            "Selecting previously unselected package fonts-mathjax.\n",
            "Preparing to unpack .../07-fonts-mathjax_2.7.3+dfsg-1_all.deb ...\n",
            "Unpacking fonts-mathjax (2.7.3+dfsg-1) ...\n",
            "Selecting previously unselected package libjs-mathjax.\n",
            "Preparing to unpack .../08-libjs-mathjax_2.7.3+dfsg-1_all.deb ...\n",
            "Unpacking libjs-mathjax (2.7.3+dfsg-1) ...\n",
            "Selecting previously unselected package clang-9-doc.\n",
            "Preparing to unpack .../09-clang-9-doc_1%3a9-2~ubuntu18.04.2_all.deb ...\n",
            "Unpacking clang-9-doc (1:9-2~ubuntu18.04.2) ...\n",
            "Selecting previously unselected package clang-9-examples.\n",
            "Preparing to unpack .../10-clang-9-examples_1%3a9-2~ubuntu18.04.2_amd64.deb ...\n",
            "Unpacking clang-9-examples (1:9-2~ubuntu18.04.2) ...\n",
            "Selecting previously unselected package libclang-9-dev.\n",
            "Preparing to unpack .../11-libclang-9-dev_1%3a9-2~ubuntu18.04.2_amd64.deb ...\n",
            "Unpacking libclang-9-dev (1:9-2~ubuntu18.04.2) ...\n",
            "Selecting previously unselected package libomp5-9:amd64.\n",
            "Preparing to unpack .../12-libomp5-9_1%3a9-2~ubuntu18.04.2_amd64.deb ...\n",
            "Unpacking libomp5-9:amd64 (1:9-2~ubuntu18.04.2) ...\n",
            "Selecting previously unselected package libomp-9-dev.\n",
            "Preparing to unpack .../13-libomp-9-dev_1%3a9-2~ubuntu18.04.2_amd64.deb ...\n",
            "Unpacking libomp-9-dev (1:9-2~ubuntu18.04.2) ...\n",
            "Selecting previously unselected package llvm-9-runtime.\n",
            "Preparing to unpack .../14-llvm-9-runtime_1%3a9-2~ubuntu18.04.2_amd64.deb ...\n",
            "Unpacking llvm-9-runtime (1:9-2~ubuntu18.04.2) ...\n",
            "Selecting previously unselected package libpfm4:amd64.\n",
            "Preparing to unpack .../15-libpfm4_4.9.0-2_amd64.deb ...\n",
            "Unpacking libpfm4:amd64 (4.9.0-2) ...\n",
            "Selecting previously unselected package llvm-9.\n",
            "Preparing to unpack .../16-llvm-9_1%3a9-2~ubuntu18.04.2_amd64.deb ...\n",
            "Unpacking llvm-9 (1:9-2~ubuntu18.04.2) ...\n",
            "Selecting previously unselected package libffi-dev:amd64.\n",
            "Preparing to unpack .../17-libffi-dev_3.2.1-8_amd64.deb ...\n",
            "Unpacking libffi-dev:amd64 (3.2.1-8) ...\n",
            "Selecting previously unselected package python-pygments.\n",
            "Preparing to unpack .../18-python-pygments_2.2.0+dfsg-1ubuntu0.2_all.deb ...\n",
            "Unpacking python-pygments (2.2.0+dfsg-1ubuntu0.2) ...\n",
            "Selecting previously unselected package python-yaml.\n",
            "Preparing to unpack .../19-python-yaml_3.12-1build2_amd64.deb ...\n",
            "Unpacking python-yaml (3.12-1build2) ...\n",
            "Selecting previously unselected package python3-pygments.\n",
            "Preparing to unpack .../20-python3-pygments_2.2.0+dfsg-1ubuntu0.2_all.deb ...\n",
            "Unpacking python3-pygments (2.2.0+dfsg-1ubuntu0.2) ...\n",
            "Selecting previously unselected package llvm-9-tools.\n",
            "Preparing to unpack .../21-llvm-9-tools_1%3a9-2~ubuntu18.04.2_amd64.deb ...\n",
            "Unpacking llvm-9-tools (1:9-2~ubuntu18.04.2) ...\n",
            "Selecting previously unselected package llvm-9-dev.\n",
            "Preparing to unpack .../22-llvm-9-dev_1%3a9-2~ubuntu18.04.2_amd64.deb ...\n",
            "Unpacking llvm-9-dev (1:9-2~ubuntu18.04.2) ...\n",
            "Selecting previously unselected package python-pkg-resources.\n",
            "Preparing to unpack .../23-python-pkg-resources_39.0.1-2_all.deb ...\n",
            "Unpacking python-pkg-resources (39.0.1-2) ...\n",
            "Selecting previously unselected package python-chardet.\n",
            "Preparing to unpack .../24-python-chardet_3.0.4-1_all.deb ...\n",
            "Unpacking python-chardet (3.0.4-1) ...\n",
            "Selecting previously unselected package python-clang-9.\n",
            "Preparing to unpack .../25-python-clang-9_1%3a9-2~ubuntu18.04.2_amd64.deb ...\n",
            "Unpacking python-clang-9 (1:9-2~ubuntu18.04.2) ...\n",
            "Selecting previously unselected package python3-pkg-resources.\n",
            "Preparing to unpack .../26-python3-pkg-resources_39.0.1-2_all.deb ...\n",
            "Unpacking python3-pkg-resources (39.0.1-2) ...\n",
            "Setting up python3-yaml (3.12-1build2) ...\n",
            "Setting up binfmt-support (2.1.8-2) ...\n",
            "Created symlink /etc/systemd/system/multi-user.target.wants/binfmt-support.service → /lib/systemd/system/binfmt-support.service.\n",
            "invoke-rc.d: could not determine current runlevel\n",
            "invoke-rc.d: policy-rc.d denied execution of start.\n",
            "Setting up fonts-mathjax (2.7.3+dfsg-1) ...\n",
            "Setting up python-yaml (3.12-1build2) ...\n",
            "Setting up libjs-mathjax (2.7.3+dfsg-1) ...\n",
            "Setting up python-clang-9 (1:9-2~ubuntu18.04.2) ...\n",
            "Setting up clang-9-doc (1:9-2~ubuntu18.04.2) ...\n",
            "Setting up libffi-dev:amd64 (3.2.1-8) ...\n",
            "Setting up python3-pkg-resources (39.0.1-2) ...\n",
            "Setting up python-pkg-resources (39.0.1-2) ...\n",
            "Setting up libomp5-9:amd64 (1:9-2~ubuntu18.04.2) ...\n",
            "Setting up libpfm4:amd64 (4.9.0-2) ...\n",
            "Setting up python-pygments (2.2.0+dfsg-1ubuntu0.2) ...\n",
            "Setting up clang-9-examples (1:9-2~ubuntu18.04.2) ...\n",
            "Setting up libllvm9:amd64 (1:9-2~ubuntu18.04.2) ...\n",
            "Setting up libomp-9-dev (1:9-2~ubuntu18.04.2) ...\n",
            "Setting up python3-pygments (2.2.0+dfsg-1ubuntu0.2) ...\n",
            "Setting up libclang-common-9-dev (1:9-2~ubuntu18.04.2) ...\n",
            "Setting up python-chardet (3.0.4-1) ...\n",
            "Setting up libclang1-9 (1:9-2~ubuntu18.04.2) ...\n",
            "Setting up libclang-9-dev (1:9-2~ubuntu18.04.2) ...\n",
            "Setting up libclang-cpp9 (1:9-2~ubuntu18.04.2) ...\n",
            "Setting up llvm-9-runtime (1:9-2~ubuntu18.04.2) ...\n",
            "Setting up llvm-9-tools (1:9-2~ubuntu18.04.2) ...\n",
            "Setting up clang-9 (1:9-2~ubuntu18.04.2) ...\n",
            "Setting up llvm-9 (1:9-2~ubuntu18.04.2) ...\n",
            "Setting up llvm-9-dev (1:9-2~ubuntu18.04.2) ...\n",
            "Processing triggers for libc-bin (2.27-3ubuntu1.3) ...\n",
            "/sbin/ldconfig.real: /usr/local/lib/python3.7/dist-packages/ideep4py/lib/libmkldnn.so.0 is not a symbolic link\n",
            "\n",
            "Processing triggers for systemd (237-3ubuntu10.53) ...\n",
            "Processing triggers for man-db (2.8.3-2ubuntu0.1) ...\n",
            "Processing triggers for fontconfig (2.12.6-0ubuntu2) ...\n",
            "update-alternatives: error: no alternatives for gcc\n",
            "update-alternatives: error: no alternatives for g++\n",
            "update-alternatives: error: alternative path /usr/bin/gcc-9 doesn't exist\n",
            "update-alternatives: error: alternative path /usr/bin/g++-9 doesn't exist\n"
          ]
        }
      ]
    },
    {
      "cell_type": "code",
      "source": [
        "!apt-get install build-essential checkinstall pkg-config yasm\n",
        "!apt-get install gfortran\n",
        "!apt-get install libjpeg8-dev libjasper-dev libpng12-dev\n",
        "!apt-get install libtiff5-dev\n",
        "!apt-get install libavcodec-dev libavformat-dev libswscale-dev libdc1394-22-dev\n",
        "!apt-get install libxine2-dev libv4l-dev\n",
        "!apt-get install libgstreamer0.10-dev libgstreamer-plugins-base0.10-dev\n",
        "!apt-get install qt5-default libgtk2.0-dev libtbb-dev\n",
        "!apt-get install libatlas-base-dev\n",
        "!apt-get install libfaac-dev libmp3lame-dev libtheora-dev\n",
        "!apt-get install libvorbis-dev libxvidcore-dev\n",
        "!apt-get install libopencore-amrnb-dev libopencore-amrwb-dev\n",
        "!apt-get install x264 v4l-utils\n",
        "!apt-get install libgoogle-glog-dev\n",
        "!apt-get install libopencv-dev"
      ],
      "metadata": {
        "colab": {
          "base_uri": "https://localhost:8080/"
        },
        "id": "OT_g-5gEGc46",
        "outputId": "3c087141-9168-41ac-d8ec-7428ed913c40"
      },
      "execution_count": 7,
      "outputs": [
        {
          "output_type": "stream",
          "name": "stdout",
          "text": [
            "Reading package lists... Done\n",
            "Building dependency tree       \n",
            "Reading state information... Done\n",
            "build-essential is already the newest version (12.4ubuntu1).\n",
            "pkg-config is already the newest version (0.29.1-0ubuntu2).\n",
            "The following additional packages will be installed:\n",
            "  file libmagic-mgc libmagic1\n",
            "Suggested packages:\n",
            "  gettext\n",
            "The following NEW packages will be installed:\n",
            "  checkinstall file libmagic-mgc libmagic1 yasm\n",
            "0 upgraded, 5 newly installed, 0 to remove and 39 not upgraded.\n",
            "Need to get 777 kB of archives.\n",
            "After this operation, 7,899 kB of additional disk space will be used.\n",
            "Get:1 http://archive.ubuntu.com/ubuntu bionic-updates/main amd64 libmagic-mgc amd64 1:5.32-2ubuntu0.4 [184 kB]\n",
            "Get:2 http://archive.ubuntu.com/ubuntu bionic-updates/main amd64 libmagic1 amd64 1:5.32-2ubuntu0.4 [68.6 kB]\n",
            "Get:3 http://archive.ubuntu.com/ubuntu bionic-updates/main amd64 file amd64 1:5.32-2ubuntu0.4 [22.1 kB]\n",
            "Get:4 http://archive.ubuntu.com/ubuntu bionic/universe amd64 checkinstall amd64 1.6.2-4ubuntu2 [97.1 kB]\n",
            "Get:5 http://archive.ubuntu.com/ubuntu bionic/universe amd64 yasm amd64 1.3.0-2build1 [406 kB]\n",
            "Fetched 777 kB in 1s (696 kB/s)\n",
            "Selecting previously unselected package libmagic-mgc.\n",
            "(Reading database ... 164605 files and directories currently installed.)\n",
            "Preparing to unpack .../libmagic-mgc_1%3a5.32-2ubuntu0.4_amd64.deb ...\n",
            "Unpacking libmagic-mgc (1:5.32-2ubuntu0.4) ...\n",
            "Selecting previously unselected package libmagic1:amd64.\n",
            "Preparing to unpack .../libmagic1_1%3a5.32-2ubuntu0.4_amd64.deb ...\n",
            "Unpacking libmagic1:amd64 (1:5.32-2ubuntu0.4) ...\n",
            "Selecting previously unselected package file.\n",
            "Preparing to unpack .../file_1%3a5.32-2ubuntu0.4_amd64.deb ...\n",
            "Unpacking file (1:5.32-2ubuntu0.4) ...\n",
            "Selecting previously unselected package checkinstall.\n",
            "Preparing to unpack .../checkinstall_1.6.2-4ubuntu2_amd64.deb ...\n",
            "Unpacking checkinstall (1.6.2-4ubuntu2) ...\n",
            "Selecting previously unselected package yasm.\n",
            "Preparing to unpack .../yasm_1.3.0-2build1_amd64.deb ...\n",
            "Unpacking yasm (1.3.0-2build1) ...\n",
            "Setting up yasm (1.3.0-2build1) ...\n",
            "Setting up libmagic-mgc (1:5.32-2ubuntu0.4) ...\n",
            "Setting up libmagic1:amd64 (1:5.32-2ubuntu0.4) ...\n",
            "Setting up file (1:5.32-2ubuntu0.4) ...\n",
            "Setting up checkinstall (1.6.2-4ubuntu2) ...\n",
            "Processing triggers for man-db (2.8.3-2ubuntu0.1) ...\n",
            "Processing triggers for libc-bin (2.27-3ubuntu1.3) ...\n",
            "/sbin/ldconfig.real: /usr/local/lib/python3.7/dist-packages/ideep4py/lib/libmkldnn.so.0 is not a symbolic link\n",
            "\n",
            "Reading package lists... Done\n",
            "Building dependency tree       \n",
            "Reading state information... Done\n",
            "gfortran is already the newest version (4:7.4.0-1ubuntu2.3).\n",
            "0 upgraded, 0 newly installed, 0 to remove and 39 not upgraded.\n",
            "Reading package lists... Done\n",
            "Building dependency tree       \n",
            "Reading state information... Done\n",
            "Package libpng12-dev is not available, but is referred to by another package.\n",
            "This may mean that the package is missing, has been obsoleted, or\n",
            "is only available from another source\n",
            "\n",
            "E: Unable to locate package libjasper-dev\n",
            "E: Package 'libpng12-dev' has no installation candidate\n",
            "Reading package lists... Done\n",
            "Building dependency tree       \n",
            "Reading state information... Done\n",
            "libtiff5-dev is already the newest version (4.0.9-5ubuntu0.4).\n",
            "libtiff5-dev set to manually installed.\n",
            "0 upgraded, 0 newly installed, 0 to remove and 39 not upgraded.\n",
            "Reading package lists... Done\n",
            "Building dependency tree       \n",
            "Reading state information... Done\n",
            "libdc1394-22-dev is already the newest version (2.2.5-1).\n",
            "libdc1394-22-dev set to manually installed.\n",
            "libavcodec-dev is already the newest version (7:3.4.8-0ubuntu0.2).\n",
            "libavcodec-dev set to manually installed.\n",
            "libavformat-dev is already the newest version (7:3.4.8-0ubuntu0.2).\n",
            "libavformat-dev set to manually installed.\n",
            "libswscale-dev is already the newest version (7:3.4.8-0ubuntu0.2).\n",
            "libswscale-dev set to manually installed.\n",
            "0 upgraded, 0 newly installed, 0 to remove and 39 not upgraded.\n",
            "Reading package lists... Done\n",
            "Building dependency tree       \n",
            "Reading state information... Done\n",
            "The following additional packages will be installed:\n",
            "  libv4l-0 libv4l2rds0 libv4lconvert0 libxine2-bin\n",
            "The following NEW packages will be installed:\n",
            "  libv4l-0 libv4l-dev libv4l2rds0 libv4lconvert0 libxine2-bin libxine2-dev\n",
            "0 upgraded, 6 newly installed, 0 to remove and 39 not upgraded.\n",
            "Need to get 1,740 kB of archives.\n",
            "After this operation, 4,333 kB of additional disk space will be used.\n",
            "Get:1 http://archive.ubuntu.com/ubuntu bionic/main amd64 libv4lconvert0 amd64 1.14.2-1 [76.1 kB]\n",
            "Get:2 http://archive.ubuntu.com/ubuntu bionic/main amd64 libv4l-0 amd64 1.14.2-1 [41.7 kB]\n",
            "Get:3 http://archive.ubuntu.com/ubuntu bionic/main amd64 libv4l2rds0 amd64 1.14.2-1 [15.6 kB]\n",
            "Get:4 http://archive.ubuntu.com/ubuntu bionic/main amd64 libv4l-dev amd64 1.14.2-1 [107 kB]\n",
            "Get:5 http://archive.ubuntu.com/ubuntu bionic/universe amd64 libxine2-bin amd64 1.2.8-2build2 [1,427 kB]\n",
            "Get:6 http://archive.ubuntu.com/ubuntu bionic/universe amd64 libxine2-dev amd64 1.2.8-2build2 [71.7 kB]\n",
            "Fetched 1,740 kB in 1s (1,595 kB/s)\n",
            "Selecting previously unselected package libv4lconvert0:amd64.\n",
            "(Reading database ... 164713 files and directories currently installed.)\n",
            "Preparing to unpack .../0-libv4lconvert0_1.14.2-1_amd64.deb ...\n",
            "Unpacking libv4lconvert0:amd64 (1.14.2-1) ...\n",
            "Selecting previously unselected package libv4l-0:amd64.\n",
            "Preparing to unpack .../1-libv4l-0_1.14.2-1_amd64.deb ...\n",
            "Unpacking libv4l-0:amd64 (1.14.2-1) ...\n",
            "Selecting previously unselected package libv4l2rds0:amd64.\n",
            "Preparing to unpack .../2-libv4l2rds0_1.14.2-1_amd64.deb ...\n",
            "Unpacking libv4l2rds0:amd64 (1.14.2-1) ...\n",
            "Selecting previously unselected package libv4l-dev:amd64.\n",
            "Preparing to unpack .../3-libv4l-dev_1.14.2-1_amd64.deb ...\n",
            "Unpacking libv4l-dev:amd64 (1.14.2-1) ...\n",
            "Selecting previously unselected package libxine2-bin.\n",
            "Preparing to unpack .../4-libxine2-bin_1.2.8-2build2_amd64.deb ...\n",
            "Unpacking libxine2-bin (1.2.8-2build2) ...\n",
            "Selecting previously unselected package libxine2-dev.\n",
            "Preparing to unpack .../5-libxine2-dev_1.2.8-2build2_amd64.deb ...\n",
            "Unpacking libxine2-dev (1.2.8-2build2) ...\n",
            "Setting up libv4l2rds0:amd64 (1.14.2-1) ...\n",
            "Setting up libv4lconvert0:amd64 (1.14.2-1) ...\n",
            "Setting up libxine2-bin (1.2.8-2build2) ...\n",
            "Setting up libxine2-dev (1.2.8-2build2) ...\n",
            "Setting up libv4l-0:amd64 (1.14.2-1) ...\n",
            "Setting up libv4l-dev:amd64 (1.14.2-1) ...\n",
            "Processing triggers for man-db (2.8.3-2ubuntu0.1) ...\n",
            "Processing triggers for libc-bin (2.27-3ubuntu1.3) ...\n",
            "/sbin/ldconfig.real: /usr/local/lib/python3.7/dist-packages/ideep4py/lib/libmkldnn.so.0 is not a symbolic link\n",
            "\n",
            "Reading package lists... Done\n",
            "Building dependency tree       \n",
            "Reading state information... Done\n",
            "E: Unable to locate package libgstreamer0.10-dev\n",
            "E: Couldn't find any package by glob 'libgstreamer0.10-dev'\n",
            "E: Couldn't find any package by regex 'libgstreamer0.10-dev'\n",
            "E: Unable to locate package libgstreamer-plugins-base0.10-dev\n",
            "E: Couldn't find any package by glob 'libgstreamer-plugins-base0.10-dev'\n",
            "E: Couldn't find any package by regex 'libgstreamer-plugins-base0.10-dev'\n",
            "Reading package lists... Done\n",
            "Building dependency tree       \n",
            "Reading state information... Done\n",
            "libtbb-dev is already the newest version (2017~U7-8).\n",
            "libtbb-dev set to manually installed.\n",
            "qt5-default is already the newest version (5.9.5+dfsg-0ubuntu2.6).\n",
            "The following additional packages will be installed:\n",
            "  autoconf automake autopoint autotools-dev debhelper dh-autoreconf\n",
            "  dh-strip-nondeterminism gettext gettext-base gir1.2-atk-1.0\n",
            "  gir1.2-freedesktop gir1.2-gdkpixbuf-2.0 gir1.2-gtk-2.0 gir1.2-pango-1.0\n",
            "  intltool-debian libarchive-cpio-perl libarchive-zip-perl libatk1.0-dev\n",
            "  libcairo-script-interpreter2 libcairo2-dev libfile-stripnondeterminism-perl\n",
            "  libgail-common libgail18 libgdk-pixbuf2.0-dev libgtk2.0-0 libgtk2.0-bin\n",
            "  libgtk2.0-common libmail-sendmail-perl libpango1.0-dev libpangoxft-1.0-0\n",
            "  libpixman-1-dev libsigsegv2 libsys-hostname-long-perl libtimedate-perl\n",
            "  libtool libxcb-shm0-dev libxcomposite-dev libxcursor-dev libxinerama-dev\n",
            "  libxml2-utils libxrandr-dev m4 po-debconf x11proto-composite-dev\n",
            "  x11proto-randr-dev x11proto-xinerama-dev\n",
            "Suggested packages:\n",
            "  autoconf-archive gnu-standards autoconf-doc dh-make dwz gettext-doc\n",
            "  libasprintf-dev libgettextpo-dev libcairo2-doc gvfs libgtk2.0-doc\n",
            "  imagemagick libpango1.0-doc libtool-doc gcj-jdk m4-doc libmail-box-perl\n",
            "The following NEW packages will be installed:\n",
            "  autoconf automake autopoint autotools-dev debhelper dh-autoreconf\n",
            "  dh-strip-nondeterminism gettext gettext-base gir1.2-atk-1.0\n",
            "  gir1.2-freedesktop gir1.2-gdkpixbuf-2.0 gir1.2-gtk-2.0 gir1.2-pango-1.0\n",
            "  intltool-debian libarchive-cpio-perl libarchive-zip-perl libatk1.0-dev\n",
            "  libcairo-script-interpreter2 libcairo2-dev libfile-stripnondeterminism-perl\n",
            "  libgail-common libgail18 libgdk-pixbuf2.0-dev libgtk2.0-0 libgtk2.0-bin\n",
            "  libgtk2.0-common libgtk2.0-dev libmail-sendmail-perl libpango1.0-dev\n",
            "  libpangoxft-1.0-0 libpixman-1-dev libsigsegv2 libsys-hostname-long-perl\n",
            "  libtimedate-perl libtool libxcb-shm0-dev libxcomposite-dev libxcursor-dev\n",
            "  libxinerama-dev libxml2-utils libxrandr-dev m4 po-debconf\n",
            "  x11proto-composite-dev x11proto-randr-dev x11proto-xinerama-dev\n",
            "0 upgraded, 47 newly installed, 0 to remove and 39 not upgraded.\n",
            "Need to get 10.8 MB of archives.\n",
            "After this operation, 51.6 MB of additional disk space will be used.\n",
            "Get:1 http://archive.ubuntu.com/ubuntu bionic-updates/main amd64 gettext-base amd64 0.19.8.1-6ubuntu0.3 [113 kB]\n",
            "Get:2 http://archive.ubuntu.com/ubuntu bionic/main amd64 libsigsegv2 amd64 2.12-1 [14.7 kB]\n",
            "Get:3 http://archive.ubuntu.com/ubuntu bionic/main amd64 m4 amd64 1.4.18-1 [197 kB]\n",
            "Get:4 http://archive.ubuntu.com/ubuntu bionic/main amd64 autoconf all 2.69-11 [322 kB]\n",
            "Get:5 http://archive.ubuntu.com/ubuntu bionic/main amd64 autotools-dev all 20180224.1 [39.6 kB]\n",
            "Get:6 http://archive.ubuntu.com/ubuntu bionic/main amd64 automake all 1:1.15.1-3ubuntu2 [509 kB]\n",
            "Get:7 http://archive.ubuntu.com/ubuntu bionic-updates/main amd64 autopoint all 0.19.8.1-6ubuntu0.3 [426 kB]\n",
            "Get:8 http://archive.ubuntu.com/ubuntu bionic/main amd64 libtool all 2.4.6-2 [194 kB]\n",
            "Get:9 http://archive.ubuntu.com/ubuntu bionic/main amd64 dh-autoreconf all 17 [15.8 kB]\n",
            "Get:10 http://archive.ubuntu.com/ubuntu bionic-updates/main amd64 libarchive-zip-perl all 1.60-1ubuntu0.1 [84.6 kB]\n",
            "Get:11 http://archive.ubuntu.com/ubuntu bionic/main amd64 libfile-stripnondeterminism-perl all 0.040-1.1~build1 [13.8 kB]\n",
            "Get:12 http://archive.ubuntu.com/ubuntu bionic/main amd64 libtimedate-perl all 2.3000-2 [37.5 kB]\n",
            "Get:13 http://archive.ubuntu.com/ubuntu bionic/main amd64 dh-strip-nondeterminism all 0.040-1.1~build1 [5,208 B]\n",
            "Get:14 http://archive.ubuntu.com/ubuntu bionic-updates/main amd64 gettext amd64 0.19.8.1-6ubuntu0.3 [1,293 kB]\n",
            "Get:15 http://archive.ubuntu.com/ubuntu bionic/main amd64 intltool-debian all 0.35.0+20060710.4 [24.9 kB]\n",
            "Get:16 http://archive.ubuntu.com/ubuntu bionic/main amd64 po-debconf all 1.0.20 [232 kB]\n",
            "Get:17 http://archive.ubuntu.com/ubuntu bionic-updates/main amd64 debhelper all 11.1.6ubuntu2 [902 kB]\n",
            "Get:18 http://archive.ubuntu.com/ubuntu bionic/main amd64 gir1.2-atk-1.0 amd64 2.28.1-1 [17.8 kB]\n",
            "Get:19 http://archive.ubuntu.com/ubuntu bionic/main amd64 gir1.2-freedesktop amd64 1.56.1-1 [9,080 B]\n",
            "Get:20 http://archive.ubuntu.com/ubuntu bionic/main amd64 gir1.2-gdkpixbuf-2.0 amd64 2.36.11-2 [7,748 B]\n",
            "Get:21 http://archive.ubuntu.com/ubuntu bionic/main amd64 libgtk2.0-common all 2.24.32-1ubuntu1 [125 kB]\n",
            "Get:22 http://archive.ubuntu.com/ubuntu bionic-updates/main amd64 libpangoxft-1.0-0 amd64 1.40.14-1ubuntu0.1 [15.0 kB]\n",
            "Get:23 http://archive.ubuntu.com/ubuntu bionic-updates/main amd64 gir1.2-pango-1.0 amd64 1.40.14-1ubuntu0.1 [21.6 kB]\n",
            "Get:24 http://archive.ubuntu.com/ubuntu bionic/main amd64 libgtk2.0-0 amd64 2.24.32-1ubuntu1 [1,769 kB]\n",
            "Get:25 http://archive.ubuntu.com/ubuntu bionic/main amd64 gir1.2-gtk-2.0 amd64 2.24.32-1ubuntu1 [172 kB]\n",
            "Get:26 http://archive.ubuntu.com/ubuntu bionic/main amd64 libarchive-cpio-perl all 0.10-1 [9,644 B]\n",
            "Get:27 http://archive.ubuntu.com/ubuntu bionic/main amd64 libatk1.0-dev amd64 2.28.1-1 [79.9 kB]\n",
            "Get:28 http://archive.ubuntu.com/ubuntu bionic-updates/main amd64 libcairo-script-interpreter2 amd64 1.15.10-2ubuntu0.1 [53.5 kB]\n",
            "Get:29 http://archive.ubuntu.com/ubuntu bionic/main amd64 libpixman-1-dev amd64 0.34.0-2 [244 kB]\n",
            "Get:30 http://archive.ubuntu.com/ubuntu bionic-updates/main amd64 libxcb-shm0-dev amd64 1.13-2~ubuntu18.04 [6,684 B]\n",
            "Get:31 http://archive.ubuntu.com/ubuntu bionic-updates/main amd64 libcairo2-dev amd64 1.15.10-2ubuntu0.1 [626 kB]\n",
            "Get:32 http://archive.ubuntu.com/ubuntu bionic/main amd64 libgail18 amd64 2.24.32-1ubuntu1 [14.2 kB]\n",
            "Get:33 http://archive.ubuntu.com/ubuntu bionic/main amd64 libgail-common amd64 2.24.32-1ubuntu1 [112 kB]\n",
            "Get:34 http://archive.ubuntu.com/ubuntu bionic/main amd64 libgdk-pixbuf2.0-dev amd64 2.36.11-2 [46.8 kB]\n",
            "Get:35 http://archive.ubuntu.com/ubuntu bionic/main amd64 libgtk2.0-bin amd64 2.24.32-1ubuntu1 [7,536 B]\n",
            "Get:36 http://archive.ubuntu.com/ubuntu bionic-updates/main amd64 libpango1.0-dev amd64 1.40.14-1ubuntu0.1 [288 kB]\n",
            "Get:37 http://archive.ubuntu.com/ubuntu bionic/main amd64 x11proto-xinerama-dev all 2018.4-4 [2,628 B]\n",
            "Get:38 http://archive.ubuntu.com/ubuntu bionic/main amd64 libxinerama-dev amd64 2:1.1.3-1 [8,404 B]\n",
            "Get:39 http://archive.ubuntu.com/ubuntu bionic/main amd64 x11proto-randr-dev all 2018.4-4 [2,620 B]\n",
            "Get:40 http://archive.ubuntu.com/ubuntu bionic/main amd64 libxrandr-dev amd64 2:1.5.1-1 [24.0 kB]\n",
            "Get:41 http://archive.ubuntu.com/ubuntu bionic/main amd64 libxcursor-dev amd64 1:1.1.15-1 [26.5 kB]\n",
            "Get:42 http://archive.ubuntu.com/ubuntu bionic/main amd64 x11proto-composite-dev all 1:2018.4-4 [2,620 B]\n",
            "Get:43 http://archive.ubuntu.com/ubuntu bionic/main amd64 libxcomposite-dev amd64 1:0.4.4-2 [9,136 B]\n",
            "Ign:44 http://archive.ubuntu.com/ubuntu bionic-updates/main amd64 libxml2-utils amd64 2.9.4+dfsg1-6.1ubuntu1.4\n",
            "Get:45 http://archive.ubuntu.com/ubuntu bionic/main amd64 libgtk2.0-dev amd64 2.24.32-1ubuntu1 [2,652 kB]\n",
            "Get:46 http://archive.ubuntu.com/ubuntu bionic/main amd64 libsys-hostname-long-perl all 1.5-1 [11.7 kB]\n",
            "Get:47 http://archive.ubuntu.com/ubuntu bionic/main amd64 libmail-sendmail-perl all 0.80-1 [22.6 kB]\n",
            "Err:44 http://security.ubuntu.com/ubuntu bionic-updates/main amd64 libxml2-utils amd64 2.9.4+dfsg1-6.1ubuntu1.4\n",
            "  404  Not Found [IP: 91.189.88.152 80]\n",
            "Fetched 10.8 MB in 2s (4,546 kB/s)\n",
            "E: Failed to fetch http://security.ubuntu.com/ubuntu/pool/main/libx/libxml2/libxml2-utils_2.9.4+dfsg1-6.1ubuntu1.4_amd64.deb  404  Not Found [IP: 91.189.88.152 80]\n",
            "E: Unable to fetch some archives, maybe run apt-get update or try with --fix-missing?\n",
            "Reading package lists... Done\n",
            "Building dependency tree       \n",
            "Reading state information... Done\n",
            "libatlas-base-dev is already the newest version (3.10.3-5).\n",
            "0 upgraded, 0 newly installed, 0 to remove and 39 not upgraded.\n",
            "Reading package lists... Done\n",
            "Building dependency tree       \n",
            "Reading state information... Done\n",
            "The following additional packages will be installed:\n",
            "  libfaac0\n",
            "The following NEW packages will be installed:\n",
            "  libfaac-dev libfaac0 libmp3lame-dev libtheora-dev\n",
            "0 upgraded, 4 newly installed, 0 to remove and 39 not upgraded.\n",
            "Need to get 433 kB of archives.\n",
            "After this operation, 2,039 kB of additional disk space will be used.\n",
            "Get:1 http://archive.ubuntu.com/ubuntu bionic/multiverse amd64 libfaac0 amd64 1.29.7.7-1 [44.4 kB]\n",
            "Get:2 http://archive.ubuntu.com/ubuntu bionic/multiverse amd64 libfaac-dev amd64 1.29.7.7-1 [46.5 kB]\n",
            "Get:3 http://archive.ubuntu.com/ubuntu bionic/main amd64 libmp3lame-dev amd64 3.100-2 [156 kB]\n",
            "Get:4 http://archive.ubuntu.com/ubuntu bionic/main amd64 libtheora-dev amd64 1.1.1+dfsg.1-14 [186 kB]\n",
            "Fetched 433 kB in 1s (477 kB/s)\n",
            "Selecting previously unselected package libfaac0:amd64.\n",
            "(Reading database ... 164875 files and directories currently installed.)\n",
            "Preparing to unpack .../libfaac0_1.29.7.7-1_amd64.deb ...\n",
            "Unpacking libfaac0:amd64 (1.29.7.7-1) ...\n",
            "Selecting previously unselected package libfaac-dev:amd64.\n",
            "Preparing to unpack .../libfaac-dev_1.29.7.7-1_amd64.deb ...\n",
            "Unpacking libfaac-dev:amd64 (1.29.7.7-1) ...\n",
            "Selecting previously unselected package libmp3lame-dev:amd64.\n",
            "Preparing to unpack .../libmp3lame-dev_3.100-2_amd64.deb ...\n",
            "Unpacking libmp3lame-dev:amd64 (3.100-2) ...\n",
            "Selecting previously unselected package libtheora-dev:amd64.\n",
            "Preparing to unpack .../libtheora-dev_1.1.1+dfsg.1-14_amd64.deb ...\n",
            "Unpacking libtheora-dev:amd64 (1.1.1+dfsg.1-14) ...\n",
            "Setting up libfaac0:amd64 (1.29.7.7-1) ...\n",
            "Setting up libtheora-dev:amd64 (1.1.1+dfsg.1-14) ...\n",
            "Setting up libfaac-dev:amd64 (1.29.7.7-1) ...\n",
            "Setting up libmp3lame-dev:amd64 (3.100-2) ...\n",
            "Processing triggers for libc-bin (2.27-3ubuntu1.3) ...\n",
            "/sbin/ldconfig.real: /usr/local/lib/python3.7/dist-packages/ideep4py/lib/libmkldnn.so.0 is not a symbolic link\n",
            "\n",
            "Reading package lists... Done\n",
            "Building dependency tree       \n",
            "Reading state information... Done\n",
            "libvorbis-dev is already the newest version (1.3.5-4.2).\n",
            "libvorbis-dev set to manually installed.\n",
            "The following NEW packages will be installed:\n",
            "  libxvidcore-dev\n",
            "0 upgraded, 1 newly installed, 0 to remove and 39 not upgraded.\n",
            "Need to get 226 kB of archives.\n",
            "After this operation, 1,084 kB of additional disk space will be used.\n",
            "Get:1 http://archive.ubuntu.com/ubuntu bionic/universe amd64 libxvidcore-dev amd64 2:1.3.5-1 [226 kB]\n",
            "Fetched 226 kB in 1s (331 kB/s)\n",
            "Selecting previously unselected package libxvidcore-dev:amd64.\n",
            "(Reading database ... 164915 files and directories currently installed.)\n",
            "Preparing to unpack .../libxvidcore-dev_2%3a1.3.5-1_amd64.deb ...\n",
            "Unpacking libxvidcore-dev:amd64 (2:1.3.5-1) ...\n",
            "Setting up libxvidcore-dev:amd64 (2:1.3.5-1) ...\n",
            "Reading package lists... Done\n",
            "Building dependency tree       \n",
            "Reading state information... Done\n",
            "The following additional packages will be installed:\n",
            "  libopencore-amrnb0 libopencore-amrwb0\n",
            "The following NEW packages will be installed:\n",
            "  libopencore-amrnb-dev libopencore-amrnb0 libopencore-amrwb-dev\n",
            "  libopencore-amrwb0\n",
            "0 upgraded, 4 newly installed, 0 to remove and 39 not upgraded.\n",
            "Need to get 602 kB of archives.\n",
            "After this operation, 2,866 kB of additional disk space will be used.\n",
            "Get:1 http://archive.ubuntu.com/ubuntu bionic/universe amd64 libopencore-amrnb0 amd64 0.1.3-2.1 [92.0 kB]\n",
            "Get:2 http://archive.ubuntu.com/ubuntu bionic/universe amd64 libopencore-amrwb0 amd64 0.1.3-2.1 [45.8 kB]\n",
            "Get:3 http://archive.ubuntu.com/ubuntu bionic/universe amd64 libopencore-amrnb-dev amd64 0.1.3-2.1 [332 kB]\n",
            "Get:4 http://archive.ubuntu.com/ubuntu bionic/universe amd64 libopencore-amrwb-dev amd64 0.1.3-2.1 [132 kB]\n",
            "Fetched 602 kB in 1s (540 kB/s)\n",
            "Selecting previously unselected package libopencore-amrnb0:amd64.\n",
            "(Reading database ... 164921 files and directories currently installed.)\n",
            "Preparing to unpack .../libopencore-amrnb0_0.1.3-2.1_amd64.deb ...\n",
            "Unpacking libopencore-amrnb0:amd64 (0.1.3-2.1) ...\n",
            "Selecting previously unselected package libopencore-amrwb0:amd64.\n",
            "Preparing to unpack .../libopencore-amrwb0_0.1.3-2.1_amd64.deb ...\n",
            "Unpacking libopencore-amrwb0:amd64 (0.1.3-2.1) ...\n",
            "Selecting previously unselected package libopencore-amrnb-dev:amd64.\n",
            "Preparing to unpack .../libopencore-amrnb-dev_0.1.3-2.1_amd64.deb ...\n",
            "Unpacking libopencore-amrnb-dev:amd64 (0.1.3-2.1) ...\n",
            "Selecting previously unselected package libopencore-amrwb-dev:amd64.\n",
            "Preparing to unpack .../libopencore-amrwb-dev_0.1.3-2.1_amd64.deb ...\n",
            "Unpacking libopencore-amrwb-dev:amd64 (0.1.3-2.1) ...\n",
            "Setting up libopencore-amrnb0:amd64 (0.1.3-2.1) ...\n",
            "Setting up libopencore-amrwb0:amd64 (0.1.3-2.1) ...\n",
            "Setting up libopencore-amrnb-dev:amd64 (0.1.3-2.1) ...\n",
            "Setting up libopencore-amrwb-dev:amd64 (0.1.3-2.1) ...\n",
            "Processing triggers for libc-bin (2.27-3ubuntu1.3) ...\n",
            "/sbin/ldconfig.real: /usr/local/lib/python3.7/dist-packages/ideep4py/lib/libmkldnn.so.0 is not a symbolic link\n",
            "\n",
            "Reading package lists... Done\n",
            "Building dependency tree       \n",
            "Reading state information... Done\n",
            "The following additional packages will be installed:\n",
            "  libffms2-4 libgpac4\n",
            "The following NEW packages will be installed:\n",
            "  libffms2-4 libgpac4 v4l-utils x264\n",
            "0 upgraded, 4 newly installed, 0 to remove and 39 not upgraded.\n",
            "Need to get 2,069 kB of archives.\n",
            "After this operation, 6,090 kB of additional disk space will be used.\n",
            "Get:1 http://archive.ubuntu.com/ubuntu bionic/universe amd64 libffms2-4 amd64 2.23-2 [57.3 kB]\n",
            "Get:2 http://archive.ubuntu.com/ubuntu bionic-updates/universe amd64 libgpac4 amd64 0.5.2-426-gc5ad4e4+dfsg5-3ubuntu0.1 [1,526 kB]\n",
            "Get:3 http://archive.ubuntu.com/ubuntu bionic/universe amd64 v4l-utils amd64 1.14.2-1 [407 kB]\n",
            "Get:4 http://archive.ubuntu.com/ubuntu bionic/universe amd64 x264 amd64 2:0.152.2854+gite9a5903-2 [78.5 kB]\n",
            "Fetched 2,069 kB in 1s (1,664 kB/s)\n",
            "Selecting previously unselected package libffms2-4:amd64.\n",
            "(Reading database ... 164949 files and directories currently installed.)\n",
            "Preparing to unpack .../libffms2-4_2.23-2_amd64.deb ...\n",
            "Unpacking libffms2-4:amd64 (2.23-2) ...\n",
            "Selecting previously unselected package libgpac4:amd64.\n",
            "Preparing to unpack .../libgpac4_0.5.2-426-gc5ad4e4+dfsg5-3ubuntu0.1_amd64.deb ...\n",
            "Unpacking libgpac4:amd64 (0.5.2-426-gc5ad4e4+dfsg5-3ubuntu0.1) ...\n",
            "Selecting previously unselected package v4l-utils.\n",
            "Preparing to unpack .../v4l-utils_1.14.2-1_amd64.deb ...\n",
            "Unpacking v4l-utils (1.14.2-1) ...\n",
            "Selecting previously unselected package x264.\n",
            "Preparing to unpack .../x264_2%3a0.152.2854+gite9a5903-2_amd64.deb ...\n",
            "Unpacking x264 (2:0.152.2854+gite9a5903-2) ...\n",
            "Setting up v4l-utils (1.14.2-1) ...\n",
            "Setting up libffms2-4:amd64 (2.23-2) ...\n",
            "Setting up libgpac4:amd64 (0.5.2-426-gc5ad4e4+dfsg5-3ubuntu0.1) ...\n",
            "Setting up x264 (2:0.152.2854+gite9a5903-2) ...\n",
            "Processing triggers for man-db (2.8.3-2ubuntu0.1) ...\n",
            "Processing triggers for libc-bin (2.27-3ubuntu1.3) ...\n",
            "/sbin/ldconfig.real: /usr/local/lib/python3.7/dist-packages/ideep4py/lib/libmkldnn.so.0 is not a symbolic link\n",
            "\n",
            "Reading package lists... Done\n",
            "Building dependency tree       \n",
            "Reading state information... Done\n",
            "The following additional packages will be installed:\n",
            "  libgflags-dev libgflags2.2 libgoogle-glog0v5\n",
            "The following NEW packages will be installed:\n",
            "  libgflags-dev libgflags2.2 libgoogle-glog-dev libgoogle-glog0v5\n",
            "0 upgraded, 4 newly installed, 0 to remove and 39 not upgraded.\n",
            "Need to get 283 kB of archives.\n",
            "After this operation, 1,418 kB of additional disk space will be used.\n",
            "Get:1 http://archive.ubuntu.com/ubuntu bionic/universe amd64 libgflags2.2 amd64 2.2.1-1 [72.4 kB]\n",
            "Get:2 http://archive.ubuntu.com/ubuntu bionic/universe amd64 libgflags-dev amd64 2.2.1-1 [86.1 kB]\n",
            "Get:3 http://archive.ubuntu.com/ubuntu bionic/universe amd64 libgoogle-glog0v5 amd64 0.3.5-1 [50.5 kB]\n",
            "Get:4 http://archive.ubuntu.com/ubuntu bionic/universe amd64 libgoogle-glog-dev amd64 0.3.5-1 [73.8 kB]\n",
            "Fetched 283 kB in 1s (368 kB/s)\n",
            "Selecting previously unselected package libgflags2.2.\n",
            "(Reading database ... 164992 files and directories currently installed.)\n",
            "Preparing to unpack .../libgflags2.2_2.2.1-1_amd64.deb ...\n",
            "Unpacking libgflags2.2 (2.2.1-1) ...\n",
            "Selecting previously unselected package libgflags-dev.\n",
            "Preparing to unpack .../libgflags-dev_2.2.1-1_amd64.deb ...\n",
            "Unpacking libgflags-dev (2.2.1-1) ...\n",
            "Selecting previously unselected package libgoogle-glog0v5.\n",
            "Preparing to unpack .../libgoogle-glog0v5_0.3.5-1_amd64.deb ...\n",
            "Unpacking libgoogle-glog0v5 (0.3.5-1) ...\n",
            "Selecting previously unselected package libgoogle-glog-dev.\n",
            "Preparing to unpack .../libgoogle-glog-dev_0.3.5-1_amd64.deb ...\n",
            "Unpacking libgoogle-glog-dev (0.3.5-1) ...\n",
            "Setting up libgflags2.2 (2.2.1-1) ...\n",
            "Setting up libgflags-dev (2.2.1-1) ...\n",
            "Setting up libgoogle-glog0v5 (0.3.5-1) ...\n",
            "Setting up libgoogle-glog-dev (0.3.5-1) ...\n",
            "Processing triggers for libc-bin (2.27-3ubuntu1.3) ...\n",
            "/sbin/ldconfig.real: /usr/local/lib/python3.7/dist-packages/ideep4py/lib/libmkldnn.so.0 is not a symbolic link\n",
            "\n",
            "Reading package lists... Done\n",
            "Building dependency tree       \n",
            "Reading state information... Done\n",
            "libopencv-dev is already the newest version (3.2.0+dfsg-4ubuntu0.1).\n",
            "0 upgraded, 0 newly installed, 0 to remove and 39 not upgraded.\n"
          ]
        }
      ]
    },
    {
      "cell_type": "markdown",
      "source": [
        "Compile files SWIG"
      ],
      "metadata": {
        "id": "Oc8eFO7wOyiZ"
      }
    },
    {
      "cell_type": "code",
      "source": [
        "!swig -I/content/Skeletonizing_Unet/Simulator_image/opencv-swig-master/lib -I/usr/include/ -w972 -c++ -python /content/Skeletonizing_Unet/Simulator_image/Simulator.i\n",
        "!swig -I/content/Skeletonizing_Unet/Simulator_image/opencv-swig-master/lib -I/usr/include/ -w972 -c++ -python /content/Skeletonizing_Unet/Simulator_image/Create_image.i"
      ],
      "metadata": {
        "id": "nmDuOY8m42JZ"
      },
      "execution_count": 8,
      "outputs": []
    },
    {
      "cell_type": "markdown",
      "source": [
        "Compile files C++"
      ],
      "metadata": {
        "id": "r6A7s7aI5JC6"
      }
    },
    {
      "cell_type": "code",
      "source": [
        "!g++ -shared -fpic /content/Skeletonizing_Unet/Simulator_image/Simulator_wrap.cxx $(pkg-config --cflags --libs python3) $(pkg-config --cflags --libs opencv) -o /content/Skeletonizing_Unet/Simulator_image/_Simulator.so\n",
        "!g++ -shared -fpic /content/Skeletonizing_Unet/Simulator_image/Create_image_wrap.cxx $(pkg-config --cflags --libs python3) $(pkg-config --cflags --libs opencv) -o /content/Skeletonizing_Unet/Simulator_image/_Create_image.so"
      ],
      "metadata": {
        "id": "l9zcS2L95mak"
      },
      "execution_count": 9,
      "outputs": []
    },
    {
      "cell_type": "markdown",
      "source": [
        "Show all files (hide files)"
      ],
      "metadata": {
        "id": "GiiHgPVQO4cH"
      }
    },
    {
      "cell_type": "code",
      "source": [
        "!ls /content/Skeletonizing_Unet/Simulator_image/ -al"
      ],
      "metadata": {
        "colab": {
          "base_uri": "https://localhost:8080/"
        },
        "id": "L8k12ilQN_bY",
        "outputId": "02b3f35c-3f33-45c3-b80c-4268b45dd3d4"
      },
      "execution_count": 10,
      "outputs": [
        {
          "output_type": "stream",
          "name": "stdout",
          "text": [
            "total 23776\n",
            "drwxr-xr-x 5 root root    4096 Mar 16 09:09 .\n",
            "drwxr-xr-x 4 root root    4096 Mar 16 08:53 ..\n",
            "drwxr-xr-x 2 root root    4096 Mar 16 08:53 backgrounds\n",
            "-rw-r--r-- 1 root root    5070 Mar 16 08:53 Create_image.hpp\n",
            "-rw-r--r-- 1 root root     327 Mar 16 08:53 Create_image.i\n",
            "-rw-r--r-- 1 root root  484944 Mar 16 09:07 Create_image.py\n",
            "-rwxr-xr-x 1 root root 5965240 Mar 16 09:09 _Create_image.so\n",
            "-rw-r--r-- 1 root root 5567925 Mar 16 09:07 Create_image_wrap.cxx\n",
            "drwxr-xr-x 5 root root    4096 Mar 16 08:53 opencv-swig-master\n",
            "-rw-r--r-- 1 root root   28145 Mar 16 08:53 Simulator.hpp\n",
            "-rw-r--r-- 1 root root     514 Mar 16 08:53 Simulator.i\n",
            "-rw-r--r-- 1 root root  478187 Mar 16 09:07 Simulator.py\n",
            "-rwxr-xr-x 1 root root 6113416 Mar 16 09:08 _Simulator.so\n",
            "-rw-r--r-- 1 root root 5619499 Mar 16 09:07 Simulator_wrap.cxx\n",
            "drwxr-xr-x 2 root root   45056 Mar 16 08:53 tracks\n"
          ]
        }
      ]
    },
    {
      "cell_type": "markdown",
      "source": [
        "Create PTS files"
      ],
      "metadata": {
        "id": "7xTazdt9ZzBy"
      }
    },
    {
      "cell_type": "code",
      "source": [
        "import os\n",
        "import sys\n",
        "import time\n",
        "import random\n",
        "import sys\n",
        "sys.path.append('/content/Skeletonizing_Unet/Simulator_image')\n",
        "\n",
        "import ctypes\n",
        "ctypes.cdll.LoadLibrary('/content/Skeletonizing_Unet/Simulator_image/_Simulator.so')\n",
        "import Simulator"
      ],
      "metadata": {
        "id": "QST7DrMQRTPe"
      },
      "execution_count": 11,
      "outputs": []
    },
    {
      "cell_type": "code",
      "source": [
        "# Input variables\n",
        "total_image = 30\n",
        "worms = 16\n",
        "parall = 6\n",
        "coll = 6\n",
        "velocity = 1\n",
        "day_init_exp = 1"
      ],
      "metadata": {
        "id": "K1a6nE38Y47F"
      },
      "execution_count": 12,
      "outputs": []
    },
    {
      "cell_type": "code",
      "source": [
        "path_tracks = '/content/Skeletonizing_Unet/Simulator_image' + '/tracks/'\n",
        "path_backgrounds = '/content/Skeletonizing_Unet/Simulator_image' + '/backgrounds/'\n",
        "fold_exp_sim = '/content/Skeletonizing_Unet/Simulator_image' + '/Data/'\n",
        "\n",
        "if not os.path.exists(fold_exp_sim):\n",
        "    os.makedirs(fold_exp_sim)\n",
        "\n",
        "start = time.perf_counter()\n",
        "Simulator.Simulate(path_tracks, path_backgrounds, fold_exp_sim, worms, parall, coll, velocity, day_init_exp, total_image)\n",
        "end = time.perf_counter()\n",
        "time_fn = (end - start)\n",
        "\n",
        "\n",
        "newSubFolderF = fold_exp_sim + 'day = ' + str(day_init_exp) + ' cond = X pla = 1 living_worms = ' + str(worms) + '/'\n",
        "print(newSubFolderF)\n",
        "print(day_init_exp, \") Time measured (worms=\",worms,\", images=\",total_image,\"):\", time_fn*1000, \"[ms]\")\n"
      ],
      "metadata": {
        "colab": {
          "base_uri": "https://localhost:8080/"
        },
        "id": "vYTbJ5iFZjoX",
        "outputId": "1da4c96c-0e2a-42fa-dbef-2559f44e867c"
      },
      "execution_count": 19,
      "outputs": [
        {
          "output_type": "stream",
          "name": "stdout",
          "text": [
            "/content/Skeletonizing_Unet/Simulator_image/Data/day = 1 cond = X pla = 1 living_worms = 16/\n",
            "1 ) Time measured (worms= 16 , images= 30 ): 97.00395400000161 [ms]\n"
          ]
        }
      ]
    },
    {
      "cell_type": "markdown",
      "source": [
        "Create and show image"
      ],
      "metadata": {
        "id": "DEUweoE9Z34B"
      }
    },
    {
      "cell_type": "code",
      "source": [
        "import cv2\n",
        "import numpy as np\n",
        "from PIL import Image\n",
        "import matplotlib.pyplot as plt\n",
        "import time\n",
        "\n",
        "import sys\n",
        "sys.path.append('/content/Skeletonizing_Unet/Simulator_image')\n",
        "\n",
        "import ctypes\n",
        "ctypes.cdll.LoadLibrary('/content/Skeletonizing_Unet/Simulator_image/_Create_image.so')\n",
        "import Create_image"
      ],
      "metadata": {
        "id": "kXlbniB4bqf-"
      },
      "execution_count": 14,
      "outputs": []
    },
    {
      "cell_type": "code",
      "source": [
        "path_data = newSubFolderF + 'RASP06_000001.pts'\n",
        "\n",
        "path_background_data = newSubFolderF + '/background'\n",
        "file = open(path_background_data, 'r')\n",
        "data = file.read()\n",
        "background_name = data.split(',')[0]\n",
        "path_background = path_backgrounds + background_name\n",
        "\n",
        "start = time.perf_counter()\n",
        "# Gray image low resolution\n",
        "Mat_img = Create_image.Create_image(path_data,path_background)\n",
        "np_img = np.asarray(Mat_img)\n",
        "img = Image.fromarray(np_img).convert('L')\n",
        "img = np.asarray(img)\n",
        "img = cv2.blur(img, (3, 3))\n",
        "end = time.perf_counter()\n",
        "time_cpp = end - start\n",
        "\n",
        "print(\"Time measured:\", time_cpp*1000, \"[ms]\")\n",
        "\n",
        "plt.imshow(img, cmap='gray', vmin=0, vmax=255)\n",
        "plt.show()\n",
        "\n",
        "\n"
      ],
      "metadata": {
        "colab": {
          "base_uri": "https://localhost:8080/",
          "height": 286
        },
        "id": "E7ocXDQOcVNj",
        "outputId": "3e2ef2f1-5abf-4e0c-ca12-b3d917d17efd"
      },
      "execution_count": 24,
      "outputs": [
        {
          "output_type": "stream",
          "name": "stdout",
          "text": [
            "Time measured: 47.85320500013768 [ms]\n"
          ]
        },
        {
          "output_type": "display_data",
          "data": {
            "text/plain": [
              "<Figure size 432x288 with 1 Axes>"
            ],
            "image/png": "[encoded data removed]"
          },
          "metadata": {}
        }
      ]
    },
    {
      "cell_type": "markdown",
      "source": [
        "Functions to get skeletons"
      ],
      "metadata": {
        "id": "IF5mX5RZgmJj"
      }
    },
    {
      "cell_type": "code",
      "source": [
        "def build_skel(H, W, XY_skels):\n",
        "    mask = np.zeros((H, W))\n",
        "    for XY_skel in XY_skels:\n",
        "        for XY in XY_skel:\n",
        "            mask[XY[0], XY[1]] = 1\n",
        "    return mask\n",
        "\n",
        "\n",
        "def get_skeletons(path_data, ptsN):\n",
        "    file = open(path_data, 'r')\n",
        "    skel = []\n",
        "    skel_xtremes = []\n",
        "    for line in file:\n",
        "        data = line.split('P')\n",
        "        try:\n",
        "            XY_list_str = data[1].split(\";\")\n",
        "            X = []\n",
        "            Y = []\n",
        "            for XY_p in XY_list_str:\n",
        "                XY_list = XY_p.split()\n",
        "                X.append(int(XY_list[0]))\n",
        "                Y.append(int(XY_list[1]))\n",
        "\n",
        "            X_xtremes = X[0:ptsN] + X[len(X) - ptsN:len(X)]\n",
        "            Y_xtremes = Y[0:ptsN] + Y[len(Y) - ptsN:len(Y)]\n",
        "\n",
        "            X_center = X[ptsN:len(X)-ptsN]\n",
        "            Y_center = Y[ptsN:len(Y)-ptsN]\n",
        "\n",
        "            points = np.transpose(np.vstack([Y_center, X_center]))\n",
        "            points_xtremes = np.transpose(np.vstack([Y_xtremes, X_xtremes]))\n",
        "\n",
        "            skel.append(points)\n",
        "            skel_xtremes.append(points_xtremes)\n",
        "        except:\n",
        "            v=0\n",
        "\n",
        "    skl = build_skel(1944, 1944, skel)\n",
        "    skl_ends = build_skel(1944, 1944, skel_xtremes)\n",
        "\n",
        "    zrs = RGB = np.ones((1944, 1944))\n",
        "    RGB = np.zeros((1944, 1944, 3))\n",
        "    RGB[:, :, 0] = (zrs - (skl+skl_ends))*255\n",
        "    RGB[:, :, 1] = skl_ends*255\n",
        "    RGB[:, :, 2] = skl*255\n",
        "\n",
        "    return RGB"
      ],
      "metadata": {
        "id": "IW7yNcx3fmWm"
      },
      "execution_count": 29,
      "outputs": []
    },
    {
      "cell_type": "markdown",
      "source": [
        "Show skeletons"
      ],
      "metadata": {
        "id": "dAIwBHi3hoqA"
      }
    },
    {
      "cell_type": "code",
      "source": [
        "SKL_img = get_skeletons(path_data,5)\n",
        "plt.imshow(SKL_img)\n",
        "plt.show()"
      ],
      "metadata": {
        "colab": {
          "base_uri": "https://localhost:8080/",
          "height": 286
        },
        "id": "nS03bqVRfKL4",
        "outputId": "d3468030-f79d-4e5c-93ef-f96be2d1973f"
      },
      "execution_count": 31,
      "outputs": [
        {
          "output_type": "stream",
          "name": "stderr",
          "text": [
            "Clipping input data to the valid range for imshow with RGB data ([0..1] for floats or [0..255] for integers).\n"
          ]
        },
        {
          "output_type": "display_data",
          "data": {
            "text/plain": [
              "<Figure size 432x288 with 1 Axes>"
            ],
            "image/png": "[encoded data removed]"
          },
          "metadata": {}
        }
      ]
    },
    {
      "cell_type": "markdown",
      "source": [
        "Select and show worms and skeletons"
      ],
      "metadata": {
        "id": "eHwRcW_li2ve"
      }
    },
    {
      "cell_type": "code",
      "source": [
        "from skimage.measure import label, regionprops\n",
        "\n",
        "skl_mask = (SKL_img[:,:,1]>1)*1 + (SKL_img[:,:,2]>1)*1\n",
        "skl_mask = ((skl_mask > 0 ) * 255).astype(np.uint8)\n",
        "mask_labels = label(skl_mask)\n",
        "props = regionprops(mask_labels)\n",
        "\n",
        "worm_number = 1 #select worm\n",
        "nnw = 15\n",
        "r0, c0, r1, c1 = props[worm_number].bbox\n",
        "r0 = r0 - nnw\n",
        "c0 = c0 - nnw\n",
        "r1 = r1 + nnw*2\n",
        "c1 = c1 + nnw*2\n",
        "\n",
        "gray_crop = img[r0:r1, c0:c1]\n",
        "skl_crop = skl_mask[r0:r1, c0:c1]\n",
        "\n",
        "shape_arr = skl_crop.shape\n",
        "rgb_crop = np.zeros((shape_arr[0], shape_arr[1], 3))\n",
        "rgb_crop[:,:,0] = SKL_img[r0:r1, c0:c1, 0]\n",
        "rgb_crop[:,:,1] = SKL_img[r0:r1, c0:c1, 1]\n",
        "rgb_crop[:,:,2] = SKL_img[r0:r1, c0:c1, 2]\n",
        "\n",
        "f, (ax0, ax1, ax2) = plt.subplots(1, 3)\n",
        "ax0.imshow(gray_crop, cmap='gray', vmin=0, vmax=255)\n",
        "ax1.imshow(rgb_crop)\n",
        "ax2.imshow(skl_crop)\n",
        "plt.show()"
      ],
      "metadata": {
        "id": "se87IXsmkCKP",
        "colab": {
          "base_uri": "https://localhost:8080/",
          "height": 156
        },
        "outputId": "c6729e9c-4211-4031-c082-1cf2e8766828"
      },
      "execution_count": 40,
      "outputs": [
        {
          "output_type": "stream",
          "name": "stderr",
          "text": [
            "Clipping input data to the valid range for imshow with RGB data ([0..1] for floats or [0..255] for integers).\n"
          ]
        },
        {
          "output_type": "display_data",
          "data": {
            "text/plain": [
              "<Figure size 432x288 with 3 Axes>"
            ],
            "image/png": "[encoded data removed]"
          },
          "metadata": {}
        }
      ]
    }
  ]
}