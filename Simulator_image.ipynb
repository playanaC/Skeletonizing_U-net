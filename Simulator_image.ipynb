{
  "nbformat": 4,
  "nbformat_minor": 0,
  "metadata": {
    "colab": {
      "name": "Simulator_image.ipynb",
      "provenance": [],
      "authorship_tag": "ABX9TyNxeEJhl3ware+8LtPK+44D",
      "include_colab_link": true
    },
    "kernelspec": {
      "name": "python3",
      "display_name": "Python 3"
    },
    "language_info": {
      "name": "python"
    }
  },
  "cells": [
    {
      "cell_type": "markdown",
      "metadata": {
        "id": "view-in-github",
        "colab_type": "text"
      },
      "source": [
        "<a href=\"https://colab.research.google.com/github/playanaC/Skeletonizing_Unet/blob/main/Simulator_image.ipynb\" target=\"_parent\"><img src=\"https://colab.research.google.com/assets/colab-badge.svg\" alt=\"Open In Colab\"/></a>"
      ]
    },
    {
      "cell_type": "markdown",
      "source": [
        "Install libraries"
      ],
      "metadata": {
        "id": "qmdAbOqJ4RCG"
      }
    },
    {
      "cell_type": "code",
      "source": [
        "!apt-get install swig"
      ],
      "metadata": {
        "colab": {
          "base_uri": "https://localhost:8080/"
        },
        "id": "f06BY1bg4OSY",
        "outputId": "ea56308d-6189-4d56-92ae-04c277abc763"
      },
      "execution_count": 1,
      "outputs": [
        {
          "output_type": "stream",
          "name": "stdout",
          "text": [
            "Reading package lists... Done\n",
            "Building dependency tree       \n",
            "Reading state information... Done\n",
            "The following additional packages will be installed:\n",
            "  swig3.0\n",
            "Suggested packages:\n",
            "  swig-doc swig-examples swig3.0-examples swig3.0-doc\n",
            "The following NEW packages will be installed:\n",
            "  swig swig3.0\n",
            "0 upgraded, 2 newly installed, 0 to remove and 39 not upgraded.\n",
            "Need to get 1,100 kB of archives.\n",
            "After this operation, 5,822 kB of additional disk space will be used.\n",
            "Get:1 http://archive.ubuntu.com/ubuntu bionic/universe amd64 swig3.0 amd64 3.0.12-1 [1,094 kB]\n",
            "Get:2 http://archive.ubuntu.com/ubuntu bionic/universe amd64 swig amd64 3.0.12-1 [6,460 B]\n",
            "Fetched 1,100 kB in 0s (7,991 kB/s)\n",
            "Selecting previously unselected package swig3.0.\n",
            "(Reading database ... 155335 files and directories currently installed.)\n",
            "Preparing to unpack .../swig3.0_3.0.12-1_amd64.deb ...\n",
            "Unpacking swig3.0 (3.0.12-1) ...\n",
            "Selecting previously unselected package swig.\n",
            "Preparing to unpack .../swig_3.0.12-1_amd64.deb ...\n",
            "Unpacking swig (3.0.12-1) ...\n",
            "Setting up swig3.0 (3.0.12-1) ...\n",
            "Setting up swig (3.0.12-1) ...\n",
            "Processing triggers for man-db (2.8.3-2ubuntu0.1) ...\n"
          ]
        }
      ]
    },
    {
      "cell_type": "markdown",
      "source": [
        "Clone github"
      ],
      "metadata": {
        "id": "qx_xfn1L4DT2"
      }
    },
    {
      "cell_type": "code",
      "execution_count": 2,
      "metadata": {
        "colab": {
          "base_uri": "https://localhost:8080/"
        },
        "id": "UPVQk60X35Br",
        "outputId": "582bdf78-e4a4-4076-e574-26ff399ec914"
      },
      "outputs": [
        {
          "output_type": "stream",
          "name": "stdout",
          "text": [
            "Cloning into 'Skeletonizing_Unet'...\n",
            "remote: Enumerating objects: 910, done.\u001b[K\n",
            "remote: Counting objects: 100% (86/86), done.\u001b[K\n",
            "remote: Compressing objects: 100% (83/83), done.\u001b[K\n",
            "remote: Total 910 (delta 21), reused 3 (delta 1), pack-reused 824\u001b[K\n",
            "Receiving objects: 100% (910/910), 70.99 MiB | 21.29 MiB/s, done.\n",
            "Resolving deltas: 100% (99/99), done.\n"
          ]
        }
      ],
      "source": [
        "! git clone https://github.com/playanaC/Skeletonizing_Unet.git"
      ]
    },
    {
      "cell_type": "markdown",
      "source": [
        "Folder files SWIG - C++"
      ],
      "metadata": {
        "id": "4Pu9B04T4gpX"
      }
    },
    {
      "cell_type": "code",
      "source": [
        "%cd Skeletonizing_Unet/Simulator_image/"
      ],
      "metadata": {
        "colab": {
          "base_uri": "https://localhost:8080/"
        },
        "id": "D7_GkAEM4hhy",
        "outputId": "e8e32c6a-2d1f-472a-eb84-3260539def5b"
      },
      "execution_count": 4,
      "outputs": [
        {
          "output_type": "stream",
          "name": "stdout",
          "text": [
            "/content/Skeletonizing_Unet/Simulator_image\n"
          ]
        }
      ]
    },
    {
      "cell_type": "markdown",
      "source": [
        "Find opencv folder"
      ],
      "metadata": {
        "id": "QhJP0Qnj4oww"
      }
    },
    {
      "cell_type": "code",
      "source": [
        "!pkg-config --cflags --libs opencv"
      ],
      "metadata": {
        "colab": {
          "base_uri": "https://localhost:8080/"
        },
        "id": "2Q7xeSr94pqH",
        "outputId": "7cba507c-3823-4207-d7da-4eed044cc8bd"
      },
      "execution_count": 3,
      "outputs": [
        {
          "output_type": "stream",
          "name": "stdout",
          "text": [
            "-I/usr/include/opencv -lopencv_shape -lopencv_stitching -lopencv_superres -lopencv_videostab -lopencv_aruco -lopencv_bgsegm -lopencv_bioinspired -lopencv_ccalib -lopencv_datasets -lopencv_dpm -lopencv_face -lopencv_freetype -lopencv_fuzzy -lopencv_hdf -lopencv_line_descriptor -lopencv_optflow -lopencv_video -lopencv_plot -lopencv_reg -lopencv_saliency -lopencv_stereo -lopencv_structured_light -lopencv_phase_unwrapping -lopencv_rgbd -lopencv_viz -lopencv_surface_matching -lopencv_text -lopencv_ximgproc -lopencv_calib3d -lopencv_features2d -lopencv_flann -lopencv_xobjdetect -lopencv_objdetect -lopencv_ml -lopencv_xphoto -lopencv_highgui -lopencv_videoio -lopencv_imgcodecs -lopencv_photo -lopencv_imgproc -lopencv_core\n"
          ]
        }
      ]
    },
    {
      "cell_type": "markdown",
      "source": [
        "Update g++ compiler\n"
      ],
      "metadata": {
        "id": "WZhz8PcC40zm"
      }
    },
    {
      "cell_type": "code",
      "source": [
        "!g++ -v"
      ],
      "metadata": {
        "colab": {
          "base_uri": "https://localhost:8080/"
        },
        "id": "stQVdVVZ6niK",
        "outputId": "66bbfa54-a16f-438e-ff2f-b22a63bec479"
      },
      "execution_count": 5,
      "outputs": [
        {
          "output_type": "stream",
          "name": "stdout",
          "text": [
            "Using built-in specs.\n",
            "COLLECT_GCC=g++\n",
            "COLLECT_LTO_WRAPPER=/usr/lib/gcc/x86_64-linux-gnu/7/lto-wrapper\n",
            "OFFLOAD_TARGET_NAMES=nvptx-none\n",
            "OFFLOAD_TARGET_DEFAULT=1\n",
            "Target: x86_64-linux-gnu\n",
            "Configured with: ../src/configure -v --with-pkgversion='Ubuntu 7.5.0-3ubuntu1~18.04' --with-bugurl=file:///usr/share/doc/gcc-7/README.Bugs --enable-languages=c,ada,c++,go,brig,d,fortran,objc,obj-c++ --prefix=/usr --with-gcc-major-version-only --program-suffix=-7 --program-prefix=x86_64-linux-gnu- --enable-shared --enable-linker-build-id --libexecdir=/usr/lib --without-included-gettext --enable-threads=posix --libdir=/usr/lib --enable-nls --enable-bootstrap --enable-clocale=gnu --enable-libstdcxx-debug --enable-libstdcxx-time=yes --with-default-libstdcxx-abi=new --enable-gnu-unique-object --disable-vtable-verify --enable-libmpx --enable-plugin --enable-default-pie --with-system-zlib --with-target-system-zlib --enable-objc-gc=auto --enable-multiarch --disable-werror --with-arch-32=i686 --with-abi=m64 --with-multilib-list=m32,m64,mx32 --enable-multilib --with-tune=generic --enable-offload-targets=nvptx-none --without-cuda-driver --enable-checking=release --build=x86_64-linux-gnu --host=x86_64-linux-gnu --target=x86_64-linux-gnu\n",
            "Thread model: posix\n",
            "gcc version 7.5.0 (Ubuntu 7.5.0-3ubuntu1~18.04) \n"
          ]
        }
      ]
    },
    {
      "cell_type": "code",
      "source": [
        "!apt install g++-9\n",
        "!update-alternatives --remove-all gcc \n",
        "!update-alternatives --remove-all g++\n",
        "\n",
        "!update-alternatives --install /usr/bin/gcc gcc /usr/bin/gcc-9 20\n",
        "!update-alternatives --install /usr/bin/g++ g++ /usr/bin/g++-9 20\n",
        "\n",
        "!update-alternatives --install /usr/bin/cc cc /usr/bin/gcc 30\n",
        "!update-alternatives --set cc /usr/bin/gcc\n",
        "\n",
        "!update-alternatives --install /usr/bin/c++ c++ /usr/bin/g++ 30\n",
        "!update-alternatives --set c++ /usr/bin/g++"
      ],
      "metadata": {
        "colab": {
          "base_uri": "https://localhost:8080/"
        },
        "id": "lPiTMVce_R3I",
        "outputId": "0f712b77-3682-4271-d443-18f707f193ca"
      },
      "execution_count": 6,
      "outputs": [
        {
          "output_type": "stream",
          "name": "stdout",
          "text": [
            "Reading package lists... Done\n",
            "Building dependency tree       \n",
            "Reading state information... Done\n",
            "Note, selecting 'python-clang-9' for regex 'g++-9'\n",
            "Note, selecting 'clang-9' for regex 'g++-9'\n",
            "Note, selecting 'clang-9-examples' for regex 'g++-9'\n",
            "Note, selecting 'libclang-9-dev' for regex 'g++-9'\n",
            "Note, selecting 'clang-9-doc' for regex 'g++-9'\n",
            "The following additional packages will be installed:\n",
            "  binfmt-support fonts-mathjax libclang-common-9-dev libclang-cpp9 libclang1-9\n",
            "  libffi-dev libjs-mathjax libllvm9 libomp-9-dev libomp5-9 libpfm4 llvm-9\n",
            "  llvm-9-dev llvm-9-runtime llvm-9-tools python-chardet python-pkg-resources\n",
            "  python-pygments python-yaml python3-pkg-resources python3-pygments\n",
            "  python3-yaml\n",
            "Suggested packages:\n",
            "  fonts-mathjax-extras fonts-stix libjs-mathjax-doc libomp-9-doc llvm-9-doc\n",
            "  python-setuptools ttf-bitstream-vera python3-setuptools\n",
            "The following NEW packages will be installed:\n",
            "  binfmt-support clang-9 clang-9-doc clang-9-examples fonts-mathjax\n",
            "  libclang-9-dev libclang-common-9-dev libclang-cpp9 libclang1-9 libffi-dev\n",
            "  libjs-mathjax libllvm9 libomp-9-dev libomp5-9 libpfm4 llvm-9 llvm-9-dev\n",
            "  llvm-9-runtime llvm-9-tools python-chardet python-clang-9\n",
            "  python-pkg-resources python-pygments python-yaml python3-pkg-resources\n",
            "  python3-pygments python3-yaml\n",
            "0 upgraded, 27 newly installed, 0 to remove and 39 not upgraded.\n",
            "Need to get 112 MB of archives.\n",
            "After this operation, 717 MB of additional disk space will be used.\n",
            "Get:1 http://archive.ubuntu.com/ubuntu bionic/main amd64 python3-yaml amd64 3.12-1build2 [109 kB]\n",
            "Get:2 http://archive.ubuntu.com/ubuntu bionic/main amd64 binfmt-support amd64 2.1.8-2 [51.6 kB]\n",
            "Get:3 http://archive.ubuntu.com/ubuntu bionic-updates/main amd64 libllvm9 amd64 1:9-2~ubuntu18.04.2 [14.8 MB]\n",
            "Get:4 http://archive.ubuntu.com/ubuntu bionic-updates/universe amd64 libclang-cpp9 amd64 1:9-2~ubuntu18.04.2 [25.1 MB]\n",
            "Get:5 http://archive.ubuntu.com/ubuntu bionic-updates/universe amd64 libclang-common-9-dev amd64 1:9-2~ubuntu18.04.2 [3,861 kB]\n",
            "Get:6 http://archive.ubuntu.com/ubuntu bionic-updates/universe amd64 libclang1-9 amd64 1:9-2~ubuntu18.04.2 [6,701 kB]\n",
            "Get:7 http://archive.ubuntu.com/ubuntu bionic-updates/universe amd64 clang-9 amd64 1:9-2~ubuntu18.04.2 [1,109 kB]\n",
            "Get:8 http://archive.ubuntu.com/ubuntu bionic/universe amd64 fonts-mathjax all 2.7.3+dfsg-1 [2,208 kB]\n",
            "Get:9 http://archive.ubuntu.com/ubuntu bionic/universe amd64 libjs-mathjax all 2.7.3+dfsg-1 [5,653 kB]\n",
            "Get:10 http://archive.ubuntu.com/ubuntu bionic-updates/universe amd64 clang-9-doc all 1:9-2~ubuntu18.04.2 [1,048 kB]\n",
            "Get:11 http://archive.ubuntu.com/ubuntu bionic-updates/universe amd64 clang-9-examples amd64 1:9-2~ubuntu18.04.2 [14.8 kB]\n",
            "Get:12 http://archive.ubuntu.com/ubuntu bionic-updates/universe amd64 libclang-9-dev amd64 1:9-2~ubuntu18.04.2 [16.9 MB]\n",
            "Get:13 http://archive.ubuntu.com/ubuntu bionic-updates/universe amd64 libomp5-9 amd64 1:9-2~ubuntu18.04.2 [299 kB]\n",
            "Get:14 http://archive.ubuntu.com/ubuntu bionic-updates/universe amd64 libomp-9-dev amd64 1:9-2~ubuntu18.04.2 [58.6 kB]\n",
            "Get:15 http://archive.ubuntu.com/ubuntu bionic-updates/universe amd64 llvm-9-runtime amd64 1:9-2~ubuntu18.04.2 [176 kB]\n",
            "Get:16 http://archive.ubuntu.com/ubuntu bionic/main amd64 libpfm4 amd64 4.9.0-2 [225 kB]\n",
            "Get:17 http://archive.ubuntu.com/ubuntu bionic-updates/universe amd64 llvm-9 amd64 1:9-2~ubuntu18.04.2 [4,874 kB]\n",
            "Get:18 http://archive.ubuntu.com/ubuntu bionic/main amd64 libffi-dev amd64 3.2.1-8 [156 kB]\n",
            "Get:19 http://archive.ubuntu.com/ubuntu bionic-updates/main amd64 python-pygments all 2.2.0+dfsg-1ubuntu0.2 [576 kB]\n",
            "Get:20 http://archive.ubuntu.com/ubuntu bionic/main amd64 python-yaml amd64 3.12-1build2 [115 kB]\n",
            "Get:21 http://archive.ubuntu.com/ubuntu bionic-updates/main amd64 python3-pygments all 2.2.0+dfsg-1ubuntu0.2 [574 kB]\n",
            "Get:22 http://archive.ubuntu.com/ubuntu bionic-updates/universe amd64 llvm-9-tools amd64 1:9-2~ubuntu18.04.2 [250 kB]\n",
            "Get:23 http://archive.ubuntu.com/ubuntu bionic-updates/universe amd64 llvm-9-dev amd64 1:9-2~ubuntu18.04.2 [26.6 MB]\n",
            "Get:24 http://archive.ubuntu.com/ubuntu bionic/main amd64 python-pkg-resources all 39.0.1-2 [128 kB]\n",
            "Get:25 http://archive.ubuntu.com/ubuntu bionic/main amd64 python-chardet all 3.0.4-1 [80.3 kB]\n",
            "Get:26 http://archive.ubuntu.com/ubuntu bionic-updates/universe amd64 python-clang-9 amd64 1:9-2~ubuntu18.04.2 [31.8 kB]\n",
            "Get:27 http://archive.ubuntu.com/ubuntu bionic/main amd64 python3-pkg-resources all 39.0.1-2 [98.8 kB]\n",
            "Fetched 112 MB in 2s (52.3 MB/s)\n",
            "Selecting previously unselected package python3-yaml.\n",
            "(Reading database ... 156126 files and directories currently installed.)\n",
            "Preparing to unpack .../00-python3-yaml_3.12-1build2_amd64.deb ...\n",
            "Unpacking python3-yaml (3.12-1build2) ...\n",
            "Selecting previously unselected package binfmt-support.\n",
            "Preparing to unpack .../01-binfmt-support_2.1.8-2_amd64.deb ...\n",
            "Unpacking binfmt-support (2.1.8-2) ...\n",
            "Selecting previously unselected package libllvm9:amd64.\n",
            "Preparing to unpack .../02-libllvm9_1%3a9-2~ubuntu18.04.2_amd64.deb ...\n",
            "Unpacking libllvm9:amd64 (1:9-2~ubuntu18.04.2) ...\n",
            "Selecting previously unselected package libclang-cpp9.\n",
            "Preparing to unpack .../03-libclang-cpp9_1%3a9-2~ubuntu18.04.2_amd64.deb ...\n",
            "Unpacking libclang-cpp9 (1:9-2~ubuntu18.04.2) ...\n",
            "Selecting previously unselected package libclang-common-9-dev.\n",
            "Preparing to unpack .../04-libclang-common-9-dev_1%3a9-2~ubuntu18.04.2_amd64.deb ...\n",
            "Unpacking libclang-common-9-dev (1:9-2~ubuntu18.04.2) ...\n",
            "Selecting previously unselected package libclang1-9.\n",
            "Preparing to unpack .../05-libclang1-9_1%3a9-2~ubuntu18.04.2_amd64.deb ...\n",
            "Unpacking libclang1-9 (1:9-2~ubuntu18.04.2) ...\n",
            "Selecting previously unselected package clang-9.\n",
            "Preparing to unpack .../06-clang-9_1%3a9-2~ubuntu18.04.2_amd64.deb ...\n",
            "Unpacking clang-9 (1:9-2~ubuntu18.04.2) ...\n",
            "Selecting previously unselected package fonts-mathjax.\n",
            "Preparing to unpack .../07-fonts-mathjax_2.7.3+dfsg-1_all.deb ...\n",
            "Unpacking fonts-mathjax (2.7.3+dfsg-1) ...\n",
            "Selecting previously unselected package libjs-mathjax.\n",
            "Preparing to unpack .../08-libjs-mathjax_2.7.3+dfsg-1_all.deb ...\n",
            "Unpacking libjs-mathjax (2.7.3+dfsg-1) ...\n",
            "Selecting previously unselected package clang-9-doc.\n",
            "Preparing to unpack .../09-clang-9-doc_1%3a9-2~ubuntu18.04.2_all.deb ...\n",
            "Unpacking clang-9-doc (1:9-2~ubuntu18.04.2) ...\n",
            "Selecting previously unselected package clang-9-examples.\n",
            "Preparing to unpack .../10-clang-9-examples_1%3a9-2~ubuntu18.04.2_amd64.deb ...\n",
            "Unpacking clang-9-examples (1:9-2~ubuntu18.04.2) ...\n",
            "Selecting previously unselected package libclang-9-dev.\n",
            "Preparing to unpack .../11-libclang-9-dev_1%3a9-2~ubuntu18.04.2_amd64.deb ...\n",
            "Unpacking libclang-9-dev (1:9-2~ubuntu18.04.2) ...\n",
            "Selecting previously unselected package libomp5-9:amd64.\n",
            "Preparing to unpack .../12-libomp5-9_1%3a9-2~ubuntu18.04.2_amd64.deb ...\n",
            "Unpacking libomp5-9:amd64 (1:9-2~ubuntu18.04.2) ...\n",
            "Selecting previously unselected package libomp-9-dev.\n",
            "Preparing to unpack .../13-libomp-9-dev_1%3a9-2~ubuntu18.04.2_amd64.deb ...\n",
            "Unpacking libomp-9-dev (1:9-2~ubuntu18.04.2) ...\n",
            "Selecting previously unselected package llvm-9-runtime.\n",
            "Preparing to unpack .../14-llvm-9-runtime_1%3a9-2~ubuntu18.04.2_amd64.deb ...\n",
            "Unpacking llvm-9-runtime (1:9-2~ubuntu18.04.2) ...\n",
            "Selecting previously unselected package libpfm4:amd64.\n",
            "Preparing to unpack .../15-libpfm4_4.9.0-2_amd64.deb ...\n",
            "Unpacking libpfm4:amd64 (4.9.0-2) ...\n",
            "Selecting previously unselected package llvm-9.\n",
            "Preparing to unpack .../16-llvm-9_1%3a9-2~ubuntu18.04.2_amd64.deb ...\n",
            "Unpacking llvm-9 (1:9-2~ubuntu18.04.2) ...\n",
            "Selecting previously unselected package libffi-dev:amd64.\n",
            "Preparing to unpack .../17-libffi-dev_3.2.1-8_amd64.deb ...\n",
            "Unpacking libffi-dev:amd64 (3.2.1-8) ...\n",
            "Selecting previously unselected package python-pygments.\n",
            "Preparing to unpack .../18-python-pygments_2.2.0+dfsg-1ubuntu0.2_all.deb ...\n",
            "Unpacking python-pygments (2.2.0+dfsg-1ubuntu0.2) ...\n",
            "Selecting previously unselected package python-yaml.\n",
            "Preparing to unpack .../19-python-yaml_3.12-1build2_amd64.deb ...\n",
            "Unpacking python-yaml (3.12-1build2) ...\n",
            "Selecting previously unselected package python3-pygments.\n",
            "Preparing to unpack .../20-python3-pygments_2.2.0+dfsg-1ubuntu0.2_all.deb ...\n",
            "Unpacking python3-pygments (2.2.0+dfsg-1ubuntu0.2) ...\n",
            "Selecting previously unselected package llvm-9-tools.\n",
            "Preparing to unpack .../21-llvm-9-tools_1%3a9-2~ubuntu18.04.2_amd64.deb ...\n",
            "Unpacking llvm-9-tools (1:9-2~ubuntu18.04.2) ...\n",
            "Selecting previously unselected package llvm-9-dev.\n",
            "Preparing to unpack .../22-llvm-9-dev_1%3a9-2~ubuntu18.04.2_amd64.deb ...\n",
            "Unpacking llvm-9-dev (1:9-2~ubuntu18.04.2) ...\n",
            "Selecting previously unselected package python-pkg-resources.\n",
            "Preparing to unpack .../23-python-pkg-resources_39.0.1-2_all.deb ...\n",
            "Unpacking python-pkg-resources (39.0.1-2) ...\n",
            "Selecting previously unselected package python-chardet.\n",
            "Preparing to unpack .../24-python-chardet_3.0.4-1_all.deb ...\n",
            "Unpacking python-chardet (3.0.4-1) ...\n",
            "Selecting previously unselected package python-clang-9.\n",
            "Preparing to unpack .../25-python-clang-9_1%3a9-2~ubuntu18.04.2_amd64.deb ...\n",
            "Unpacking python-clang-9 (1:9-2~ubuntu18.04.2) ...\n",
            "Selecting previously unselected package python3-pkg-resources.\n",
            "Preparing to unpack .../26-python3-pkg-resources_39.0.1-2_all.deb ...\n",
            "Unpacking python3-pkg-resources (39.0.1-2) ...\n",
            "Setting up python3-yaml (3.12-1build2) ...\n",
            "Setting up binfmt-support (2.1.8-2) ...\n",
            "Created symlink /etc/systemd/system/multi-user.target.wants/binfmt-support.service → /lib/systemd/system/binfmt-support.service.\n",
            "invoke-rc.d: could not determine current runlevel\n",
            "invoke-rc.d: policy-rc.d denied execution of start.\n",
            "Setting up fonts-mathjax (2.7.3+dfsg-1) ...\n",
            "Setting up python-yaml (3.12-1build2) ...\n",
            "Setting up libjs-mathjax (2.7.3+dfsg-1) ...\n",
            "Setting up python-clang-9 (1:9-2~ubuntu18.04.2) ...\n",
            "Setting up clang-9-doc (1:9-2~ubuntu18.04.2) ...\n",
            "Setting up libffi-dev:amd64 (3.2.1-8) ...\n",
            "Setting up python3-pkg-resources (39.0.1-2) ...\n",
            "Setting up python-pkg-resources (39.0.1-2) ...\n",
            "Setting up libomp5-9:amd64 (1:9-2~ubuntu18.04.2) ...\n",
            "Setting up libpfm4:amd64 (4.9.0-2) ...\n",
            "Setting up python-pygments (2.2.0+dfsg-1ubuntu0.2) ...\n",
            "Setting up clang-9-examples (1:9-2~ubuntu18.04.2) ...\n",
            "Setting up libllvm9:amd64 (1:9-2~ubuntu18.04.2) ...\n",
            "Setting up libomp-9-dev (1:9-2~ubuntu18.04.2) ...\n",
            "Setting up python3-pygments (2.2.0+dfsg-1ubuntu0.2) ...\n",
            "Setting up libclang-common-9-dev (1:9-2~ubuntu18.04.2) ...\n",
            "Setting up python-chardet (3.0.4-1) ...\n",
            "Setting up libclang1-9 (1:9-2~ubuntu18.04.2) ...\n",
            "Setting up libclang-9-dev (1:9-2~ubuntu18.04.2) ...\n",
            "Setting up libclang-cpp9 (1:9-2~ubuntu18.04.2) ...\n",
            "Setting up llvm-9-runtime (1:9-2~ubuntu18.04.2) ...\n",
            "Setting up llvm-9-tools (1:9-2~ubuntu18.04.2) ...\n",
            "Setting up clang-9 (1:9-2~ubuntu18.04.2) ...\n",
            "Setting up llvm-9 (1:9-2~ubuntu18.04.2) ...\n",
            "Setting up llvm-9-dev (1:9-2~ubuntu18.04.2) ...\n",
            "Processing triggers for libc-bin (2.27-3ubuntu1.3) ...\n",
            "/sbin/ldconfig.real: /usr/local/lib/python3.7/dist-packages/ideep4py/lib/libmkldnn.so.0 is not a symbolic link\n",
            "\n",
            "Processing triggers for systemd (237-3ubuntu10.53) ...\n",
            "Processing triggers for man-db (2.8.3-2ubuntu0.1) ...\n",
            "Processing triggers for fontconfig (2.12.6-0ubuntu2) ...\n",
            "update-alternatives: error: no alternatives for gcc\n",
            "update-alternatives: error: no alternatives for g++\n",
            "update-alternatives: error: alternative path /usr/bin/gcc-9 doesn't exist\n",
            "update-alternatives: error: alternative path /usr/bin/g++-9 doesn't exist\n"
          ]
        }
      ]
    },
    {
      "cell_type": "markdown",
      "source": [
        "Compile files SWIG"
      ],
      "metadata": {
        "id": "Oc8eFO7wOyiZ"
      }
    },
    {
      "cell_type": "code",
      "source": [
        "!swig -I/content/Skeletonizing_Unet/Simulator_image/opencv-swig-master/lib -I/usr/include/ -w972 -c++ -python /content/Skeletonizing_Unet/Simulator_image/Simulator.i\n",
        "!swig -I/content/Skeletonizing_Unet/Simulator_image/opencv-swig-master/lib -I/usr/include/ -w972 -c++ -python /content/Skeletonizing_Unet/Simulator_image/Create_image.i"
      ],
      "metadata": {
        "id": "nmDuOY8m42JZ"
      },
      "execution_count": 7,
      "outputs": []
    },
    {
      "cell_type": "markdown",
      "source": [
        "Compile files C++"
      ],
      "metadata": {
        "id": "r6A7s7aI5JC6"
      }
    },
    {
      "cell_type": "code",
      "source": [
        "!g++ -shared -fpic /content/Skeletonizing_Unet/Simulator_image/Simulator_wrap.cxx $(pkg-config --cflags --libs python3) $(pkg-config --cflags --libs opencv) -o /content/Skeletonizing_Unet/Simulator_image/_Simulator.so\n",
        "!g++ -shared -fpic /content/Skeletonizing_Unet/Simulator_image/Create_image_wrap.cxx $(pkg-config --cflags --libs python3) $(pkg-config --cflags --libs opencv) -o /content/Skeletonizing_Unet/Simulator_image/_Create_image.so"
      ],
      "metadata": {
        "id": "l9zcS2L95mak"
      },
      "execution_count": 8,
      "outputs": []
    },
    {
      "cell_type": "markdown",
      "source": [
        "Show all files (hide files)"
      ],
      "metadata": {
        "id": "GiiHgPVQO4cH"
      }
    },
    {
      "cell_type": "code",
      "source": [
        "!ls /content/Skeletonizing_Unet/Simulator_image/ -al"
      ],
      "metadata": {
        "colab": {
          "base_uri": "https://localhost:8080/"
        },
        "id": "L8k12ilQN_bY",
        "outputId": "9654c157-341f-40dc-ef59-1fdb32728f43"
      },
      "execution_count": 9,
      "outputs": [
        {
          "output_type": "stream",
          "name": "stdout",
          "text": [
            "total 23768\n",
            "drwxr-xr-x 5 root root    4096 Mar 21 11:53 .\n",
            "drwxr-xr-x 5 root root    4096 Mar 21 11:50 ..\n",
            "drwxr-xr-x 2 root root    4096 Mar 21 11:50 backgrounds\n",
            "-rw-r--r-- 1 root root    5070 Mar 21 11:50 Create_image.hpp\n",
            "-rw-r--r-- 1 root root     327 Mar 21 11:50 Create_image.i\n",
            "-rw-r--r-- 1 root root  484944 Mar 21 11:52 Create_image.py\n",
            "-rwxr-xr-x 1 root root 5965240 Mar 21 11:53 _Create_image.so\n",
            "-rw-r--r-- 1 root root 5567925 Mar 21 11:52 Create_image_wrap.cxx\n",
            "drwxr-xr-x 5 root root    4096 Mar 21 11:50 opencv-swig-master\n",
            "-rw-r--r-- 1 root root   28145 Mar 21 11:50 Simulator.hpp\n",
            "-rw-r--r-- 1 root root     514 Mar 21 11:50 Simulator.i\n",
            "-rw-r--r-- 1 root root  478187 Mar 21 11:52 Simulator.py\n",
            "-rwxr-xr-x 1 root root 6113416 Mar 21 11:52 _Simulator.so\n",
            "-rw-r--r-- 1 root root 5619499 Mar 21 11:52 Simulator_wrap.cxx\n",
            "drwxr-xr-x 2 root root   36864 Mar 21 11:50 tracks\n"
          ]
        }
      ]
    },
    {
      "cell_type": "markdown",
      "source": [
        "Create PTS files"
      ],
      "metadata": {
        "id": "7xTazdt9ZzBy"
      }
    },
    {
      "cell_type": "code",
      "source": [
        "import os\n",
        "import sys\n",
        "import time\n",
        "import random\n",
        "import sys\n",
        "sys.path.append('/content/Skeletonizing_Unet/Simulator_image')\n",
        "\n",
        "import ctypes\n",
        "ctypes.cdll.LoadLibrary('/content/Skeletonizing_Unet/Simulator_image/_Simulator.so')\n",
        "import Simulator"
      ],
      "metadata": {
        "id": "QST7DrMQRTPe"
      },
      "execution_count": 10,
      "outputs": []
    },
    {
      "cell_type": "code",
      "source": [
        "# Input variables\n",
        "total_image = 30\n",
        "worms = 16\n",
        "parall = 6\n",
        "coll = 6\n",
        "velocity = 1\n",
        "day_init_exp = 1"
      ],
      "metadata": {
        "id": "K1a6nE38Y47F"
      },
      "execution_count": 11,
      "outputs": []
    },
    {
      "cell_type": "code",
      "source": [
        "path_tracks = '/content/Skeletonizing_Unet/Simulator_image' + '/tracks/'\n",
        "path_backgrounds = '/content/Skeletonizing_Unet/Simulator_image' + '/backgrounds/'\n",
        "fold_exp_sim = '/content/Skeletonizing_Unet/Simulator_image' + '/Data/'\n",
        "\n",
        "if not os.path.exists(fold_exp_sim):\n",
        "    os.makedirs(fold_exp_sim)\n",
        "\n",
        "start = time.perf_counter()\n",
        "Simulator.Simulate(path_tracks, path_backgrounds, fold_exp_sim, worms, parall, coll, velocity, day_init_exp, total_image)\n",
        "end = time.perf_counter()\n",
        "time_fn = (end - start)\n",
        "\n",
        "\n",
        "newSubFolderF = fold_exp_sim + 'day = ' + str(day_init_exp) + ' cond = X pla = 1 living_worms = ' + str(worms) + '/'\n",
        "print(newSubFolderF)\n",
        "print(day_init_exp, \") Time measured (worms=\",worms,\", images=\",total_image,\"):\", time_fn*1000, \"[ms]\")\n"
      ],
      "metadata": {
        "colab": {
          "base_uri": "https://localhost:8080/"
        },
        "id": "vYTbJ5iFZjoX",
        "outputId": "3325cfe4-27ad-4403-889c-eb429af78770"
      },
      "execution_count": 39,
      "outputs": [
        {
          "output_type": "stream",
          "name": "stdout",
          "text": [
            "/content/Skeletonizing_Unet/Simulator_image/Data/day = 1 cond = X pla = 1 living_worms = 16/\n",
            "1 ) Time measured (worms= 16 , images= 30 ): 89.79652900001156 [ms]\n"
          ]
        }
      ]
    },
    {
      "cell_type": "markdown",
      "source": [
        "Create and show image"
      ],
      "metadata": {
        "id": "DEUweoE9Z34B"
      }
    },
    {
      "cell_type": "code",
      "source": [
        "import cv2\n",
        "import numpy as np\n",
        "from PIL import Image\n",
        "import matplotlib.pyplot as plt\n",
        "import time\n",
        "\n",
        "import sys\n",
        "sys.path.append('/content/Skeletonizing_Unet/Simulator_image')\n",
        "\n",
        "import ctypes\n",
        "ctypes.cdll.LoadLibrary('/content/Skeletonizing_Unet/Simulator_image/_Create_image.so')\n",
        "import Create_image"
      ],
      "metadata": {
        "id": "kXlbniB4bqf-"
      },
      "execution_count": 13,
      "outputs": []
    },
    {
      "cell_type": "code",
      "source": [
        "path_data = newSubFolderF + 'RASP06_000001.pts'\n",
        "\n",
        "path_background_data = newSubFolderF + '/background'\n",
        "file = open(path_background_data, 'r')\n",
        "data = file.read()\n",
        "background_name = data.split(',')[0]\n",
        "path_background = path_backgrounds + background_name\n",
        "\n",
        "start = time.perf_counter()\n",
        "# Gray image low resolution\n",
        "Mat_img = Create_image.Create_image(path_data,path_background)\n",
        "np_img = np.asarray(Mat_img)\n",
        "img = Image.fromarray(np_img).convert('L')\n",
        "img = np.asarray(img)\n",
        "img = cv2.blur(img, (3, 3))\n",
        "end = time.perf_counter()\n",
        "time_cpp = end - start\n",
        "\n",
        "print(\"Time measured:\", time_cpp*1000, \"[ms]\")\n",
        "\n",
        "plt.imshow(img, cmap='gray', vmin=0, vmax=255)\n",
        "plt.show()\n",
        "\n",
        "\n"
      ],
      "metadata": {
        "colab": {
          "base_uri": "https://localhost:8080/",
          "height": 286
        },
        "id": "E7ocXDQOcVNj",
        "outputId": "47c49ed7-2ebc-49ae-e406-a5d70c8ce21e"
      },
      "execution_count": 40,
      "outputs": [
        {
          "output_type": "stream",
          "name": "stdout",
          "text": [
            "Time measured: 56.657895000000735 [ms]\n"
          ]
        },
        {
          "output_type": "display_data",
          "data": {
            "text/plain": [
              "<Figure size 432x288 with 1 Axes>"
            ],
            "image/png": "[encoded data removed]"
          },
          "metadata": {
            "needs_background": "light"
          }
        }
      ]
    },
    {
      "cell_type": "markdown",
      "source": [
        "Functions to get skeletons"
      ],
      "metadata": {
        "id": "IF5mX5RZgmJj"
      }
    },
    {
      "cell_type": "code",
      "source": [
        "def build_skel(H, W, XY_skels):\n",
        "    mask = np.zeros((H, W))\n",
        "    for XY_skel in XY_skels:\n",
        "        for XY in XY_skel:\n",
        "            mask[XY[0], XY[1]] = 1\n",
        "    return mask\n",
        "\n",
        "\n",
        "def get_skeletons(path_data, ptsN):\n",
        "    file = open(path_data, 'r')\n",
        "    skel = []\n",
        "    skel_xtremes = []\n",
        "    for line in file:\n",
        "        data = line.split('P')\n",
        "        try:\n",
        "            XY_list_str = data[1].split(\";\")\n",
        "            X = []\n",
        "            Y = []\n",
        "            for XY_p in XY_list_str:\n",
        "                XY_list = XY_p.split()\n",
        "                X.append(int(XY_list[0]))\n",
        "                Y.append(int(XY_list[1]))\n",
        "\n",
        "            X_xtremes = X[0:ptsN] + X[len(X) - ptsN:len(X)]\n",
        "            Y_xtremes = Y[0:ptsN] + Y[len(Y) - ptsN:len(Y)]\n",
        "\n",
        "            X_center = X[ptsN:len(X)-ptsN]\n",
        "            Y_center = Y[ptsN:len(Y)-ptsN]\n",
        "\n",
        "            points = np.transpose(np.vstack([Y_center, X_center]))\n",
        "            points_xtremes = np.transpose(np.vstack([Y_xtremes, X_xtremes]))\n",
        "\n",
        "            skel.append(points)\n",
        "            skel_xtremes.append(points_xtremes)\n",
        "        except:\n",
        "            v=0\n",
        "\n",
        "    skl = build_skel(1944, 1944, skel)\n",
        "    skl_ends = build_skel(1944, 1944, skel_xtremes)\n",
        "\n",
        "    zrs = RGB = np.ones((1944, 1944))\n",
        "    RGB = np.zeros((1944, 1944, 3))\n",
        "    RGB[:, :, 0] = (zrs - (skl+skl_ends))*255\n",
        "    RGB[:, :, 1] = skl_ends*255\n",
        "    RGB[:, :, 2] = skl*255\n",
        "\n",
        "    return RGB"
      ],
      "metadata": {
        "id": "IW7yNcx3fmWm"
      },
      "execution_count": 15,
      "outputs": []
    },
    {
      "cell_type": "markdown",
      "source": [
        "Show skeletons"
      ],
      "metadata": {
        "id": "dAIwBHi3hoqA"
      }
    },
    {
      "cell_type": "code",
      "source": [
        "SKL_img = get_skeletons(path_data,5)\n",
        "plt.imshow(SKL_img)\n",
        "plt.show()"
      ],
      "metadata": {
        "colab": {
          "base_uri": "https://localhost:8080/",
          "height": 286
        },
        "id": "nS03bqVRfKL4",
        "outputId": "cb5fe974-d836-4c05-dcc9-102769335609"
      },
      "execution_count": 41,
      "outputs": [
        {
          "output_type": "stream",
          "name": "stderr",
          "text": [
            "Clipping input data to the valid range for imshow with RGB data ([0..1] for floats or [0..255] for integers).\n"
          ]
        },
        {
          "output_type": "display_data",
          "data": {
            "text/plain": [
              "<Figure size 432x288 with 1 Axes>"
            ],
            "image/png": "[encoded data removed]"
          },
          "metadata": {
            "needs_background": "light"
          }
        }
      ]
    },
    {
      "cell_type": "markdown",
      "source": [
        "Select and show worms and skeletons"
      ],
      "metadata": {
        "id": "eHwRcW_li2ve"
      }
    },
    {
      "cell_type": "code",
      "source": [
        "from skimage.measure import label, regionprops\n",
        "\n",
        "skl_mask = (SKL_img[:,:,1]>1)*1 + (SKL_img[:,:,2]>1)*1\n",
        "skl_mask = ((skl_mask > 0 ) * 255).astype(np.uint8)\n",
        "mask_labels = label(skl_mask)\n",
        "props = regionprops(mask_labels)\n",
        "\n",
        "worm_number = 7 #select worm3 5\n",
        "nnw = 26\n",
        "r0, c0, r1, c1 = props[worm_number].bbox\n",
        "r0 = r0 - nnw\n",
        "c0 = c0 - nnw\n",
        "r1 = r1 + nnw*2\n",
        "c1 = c1 + nnw*2\n",
        "\n",
        "gray_crop = img[r0:r1, c0:c1]\n",
        "skl_crop = skl_mask[r0:r1, c0:c1]\n",
        "\n",
        "shape_arr = skl_crop.shape\n",
        "rgb_crop = np.zeros((shape_arr[0], shape_arr[1], 3))\n",
        "rgb_crop[:,:,0] = SKL_img[r0:r1, c0:c1, 0]\n",
        "rgb_crop[:,:,1] = SKL_img[r0:r1, c0:c1, 1]\n",
        "rgb_crop[:,:,2] = SKL_img[r0:r1, c0:c1, 2]\n",
        "\n",
        "f, (ax0, ax1, ax2) = plt.subplots(1, 3)\n",
        "ax0.imshow(gray_crop, cmap='gray', vmin=0, vmax=255)\n",
        "ax1.imshow(rgb_crop)\n",
        "ax2.imshow(skl_crop, cmap='gray', vmin=0, vmax=255)\n",
        "plt.show()"
      ],
      "metadata": {
        "id": "se87IXsmkCKP",
        "colab": {
          "base_uri": "https://localhost:8080/",
          "height": 176
        },
        "outputId": "70f99aa2-dc11-4601-d0a7-0fdcd26f21d1"
      },
      "execution_count": 57,
      "outputs": [
        {
          "output_type": "stream",
          "name": "stderr",
          "text": [
            "Clipping input data to the valid range for imshow with RGB data ([0..1] for floats or [0..255] for integers).\n"
          ]
        },
        {
          "output_type": "display_data",
          "data": {
            "text/plain": [
              "<Figure size 432x288 with 3 Axes>"
            ],
            "image/png": "[encoded data removed]"
          },
          "metadata": {
            "needs_background": "light"
          }
        }
      ]
    }
  ]
}