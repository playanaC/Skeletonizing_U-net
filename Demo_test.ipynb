{
  "nbformat": 4,
  "nbformat_minor": 0,
  "metadata": {
    "colab": {
      "name": "Demo test.ipynb",
      "provenance": [],
      "authorship_tag": "ABX9TyN/UrbgXB/Mk4vZS4Id0bw3",
      "include_colab_link": true
    },
    "kernelspec": {
      "name": "python3",
      "display_name": "Python 3"
    },
    "language_info": {
      "name": "python"
    },
    "accelerator": "GPU"
  },
  "cells": [
    {
      "cell_type": "markdown",
      "metadata": {
        "id": "view-in-github",
        "colab_type": "text"
      },
      "source": [
        "<a href=\"https://colab.research.google.com/github/playanaC/Skeletonizing_Unet/blob/main/Demo_test.ipynb\" target=\"_parent\"><img src=\"https://colab.research.google.com/assets/colab-badge.svg\" alt=\"Open In Colab\"/></a>"
      ]
    },
    {
      "cell_type": "markdown",
      "source": [
        "Clone github"
      ],
      "metadata": {
        "id": "nL2eBgUJTkW5"
      }
    },
    {
      "cell_type": "code",
      "execution_count": 1,
      "metadata": {
        "colab": {
          "base_uri": "https://localhost:8080/"
        },
        "id": "2xNA9u2eTg_D",
        "outputId": "50625d23-1293-4b67-f33a-b6413993dedc"
      },
      "outputs": [
        {
          "output_type": "stream",
          "name": "stdout",
          "text": [
            "Cloning into 'Skeletonizing_Unet'...\n",
            "remote: Enumerating objects: 910, done.\u001b[K\n",
            "remote: Counting objects: 100% (86/86), done.\u001b[K\n",
            "remote: Compressing objects: 100% (83/83), done.\u001b[K\n",
            "remote: Total 910 (delta 21), reused 3 (delta 1), pack-reused 824\u001b[K\n",
            "Receiving objects: 100% (910/910), 70.99 MiB | 21.40 MiB/s, done.\n",
            "Resolving deltas: 100% (99/99), done.\n"
          ]
        }
      ],
      "source": [
        "! git clone https://github.com/playanaC/Skeletonizing_Unet.git"
      ]
    },
    {
      "cell_type": "code",
      "source": [
        "%cd Skeletonizing_Unet/Demo_test/"
      ],
      "metadata": {
        "colab": {
          "base_uri": "https://localhost:8080/"
        },
        "id": "DAeVln7kV3Fm",
        "outputId": "e994466a-9361-44c7-e88d-0180b7f676a3"
      },
      "execution_count": 2,
      "outputs": [
        {
          "output_type": "stream",
          "name": "stdout",
          "text": [
            "/content/Skeletonizing_Unet/Demo_test\n"
          ]
        }
      ]
    },
    {
      "cell_type": "markdown",
      "source": [
        "Extract Unet model"
      ],
      "metadata": {
        "id": "NjxsNCIJWcqF"
      }
    },
    {
      "cell_type": "code",
      "source": [
        "! cat /content/Skeletonizing_Unet/Demo_test/umf_Unet_pth.tar.bz.* > /content/Skeletonizing_Unet/Demo_test/umf_Unet_pth.tar.bz\n",
        "! tar -xvjf /content/Skeletonizing_Unet/Demo_test/umf_Unet_pth.tar.bz -C /content/Skeletonizing_Unet/Demo_test/\n"
      ],
      "metadata": {
        "colab": {
          "base_uri": "https://localhost:8080/"
        },
        "id": "TqyzRovcV6JY",
        "outputId": "59d79714-e911-4b29-9af3-c0aa1914ddfc"
      },
      "execution_count": 3,
      "outputs": [
        {
          "output_type": "stream",
          "name": "stdout",
          "text": [
            "umf_Unet.pth\n"
          ]
        }
      ]
    },
    {
      "cell_type": "markdown",
      "source": [
        "Import libraries"
      ],
      "metadata": {
        "id": "i4OmPMsOf8oP"
      }
    },
    {
      "cell_type": "code",
      "source": [
        "import torch\n",
        "from utils import *\n",
        "from umf_Unet_model import UMF\n",
        "import matplotlib.pyplot as plt\n",
        "device = torch.device('cuda' if torch.cuda.is_available() else 'cpu')\n",
        "print(device)"
      ],
      "metadata": {
        "colab": {
          "base_uri": "https://localhost:8080/"
        },
        "id": "m0rSJpbseT18",
        "outputId": "1864c71f-c4b3-4565-8454-826ee62570a5"
      },
      "execution_count": 7,
      "outputs": [
        {
          "output_type": "stream",
          "name": "stdout",
          "text": [
            "cuda\n"
          ]
        }
      ]
    },
    {
      "cell_type": "markdown",
      "source": [
        "Load gray-img, ground-true image skeletons: RGB, SKL "
      ],
      "metadata": {
        "id": "EMDEOjPtIUCe"
      }
    },
    {
      "cell_type": "code",
      "source": [
        "path_xmls = '/content/Skeletonizing_Unet/Demo_test/xml_files/'\n",
        "img_path = '/content/Skeletonizing_Unet/Demo_test/RASP02_000010.cmpr'\n",
        "\n",
        "xmls = xml_annotator(path_xmls)\n",
        "img, RGB, skl_mask = img_cmpr_skl(img_path, xmls, 2, 5)\n",
        "\n",
        "f, (ax0, ax1, ax2) = plt.subplots(1, 3)\n",
        "ax0.imshow(img, cmap='gray', vmin=0, vmax=255)\n",
        "ax1.imshow(RGB)\n",
        "ax2.imshow(skl_mask, cmap='gray', vmin=0, vmax=255)\n",
        "plt.show()"
      ],
      "metadata": {
        "colab": {
          "base_uri": "https://localhost:8080/",
          "height": 167
        },
        "id": "94kNFIZ5HnH1",
        "outputId": "c4609072-65c7-4288-d8b8-0552c75b0172"
      },
      "execution_count": 13,
      "outputs": [
        {
          "output_type": "stream",
          "name": "stderr",
          "text": [
            "Clipping input data to the valid range for imshow with RGB data ([0..1] for floats or [0..255] for integers).\n"
          ]
        },
        {
          "output_type": "display_data",
          "data": {
            "text/plain": [
              "<Figure size 432x288 with 3 Axes>"
            ],
            "image/png": "[encoded data removed]"
          },
          "metadata": {
            "needs_background": "light"
          }
        }
      ]
    },
    {
      "cell_type": "markdown",
      "source": [
        "Load model"
      ],
      "metadata": {
        "id": "0GsUy_uhgH1I"
      }
    },
    {
      "cell_type": "code",
      "source": [
        "best_model = '/content/Skeletonizing_Unet/Demo_test/umf_Unet.pth'\n",
        "\n",
        "model = UMF(n_channels=1, n_classes=3, bilinear=True)\n",
        "model.load_state_dict(torch.load(best_model))\n",
        "model.to(device=device)\n",
        "\n",
        "print(model)"
      ],
      "metadata": {
        "colab": {
          "base_uri": "https://localhost:8080/"
        },
        "id": "6fWTsqBTd-gg",
        "outputId": "8aae4f08-d320-4dc5-e775-22978c86564b"
      },
      "execution_count": 5,
      "outputs": [
        {
          "output_type": "stream",
          "name": "stdout",
          "text": [
            "UMF(\n",
            "  (inc): DoubleConv(\n",
            "    (double_conv): Sequential(\n",
            "      (0): Conv2d(1, 64, kernel_size=(3, 3), stride=(1, 1), padding=(1, 1))\n",
            "      (1): BatchNorm2d(64, eps=1e-05, momentum=0.1, affine=True, track_running_stats=True)\n",
            "      (2): ReLU(inplace=True)\n",
            "      (3): Conv2d(64, 64, kernel_size=(3, 3), stride=(1, 1), padding=(1, 1))\n",
            "      (4): BatchNorm2d(64, eps=1e-05, momentum=0.1, affine=True, track_running_stats=True)\n",
            "      (5): ReLU(inplace=True)\n",
            "    )\n",
            "  )\n",
            "  (down1): Down(\n",
            "    (maxpool_conv): Sequential(\n",
            "      (0): MaxPool2d(kernel_size=2, stride=2, padding=0, dilation=1, ceil_mode=False)\n",
            "      (1): DoubleConv(\n",
            "        (double_conv): Sequential(\n",
            "          (0): Conv2d(64, 128, kernel_size=(3, 3), stride=(1, 1), padding=(1, 1))\n",
            "          (1): BatchNorm2d(128, eps=1e-05, momentum=0.1, affine=True, track_running_stats=True)\n",
            "          (2): ReLU(inplace=True)\n",
            "          (3): Conv2d(128, 128, kernel_size=(3, 3), stride=(1, 1), padding=(1, 1))\n",
            "          (4): BatchNorm2d(128, eps=1e-05, momentum=0.1, affine=True, track_running_stats=True)\n",
            "          (5): ReLU(inplace=True)\n",
            "        )\n",
            "      )\n",
            "    )\n",
            "  )\n",
            "  (down2): Down(\n",
            "    (maxpool_conv): Sequential(\n",
            "      (0): MaxPool2d(kernel_size=2, stride=2, padding=0, dilation=1, ceil_mode=False)\n",
            "      (1): DoubleConv(\n",
            "        (double_conv): Sequential(\n",
            "          (0): Conv2d(128, 256, kernel_size=(3, 3), stride=(1, 1), padding=(1, 1))\n",
            "          (1): BatchNorm2d(256, eps=1e-05, momentum=0.1, affine=True, track_running_stats=True)\n",
            "          (2): ReLU(inplace=True)\n",
            "          (3): Conv2d(256, 256, kernel_size=(3, 3), stride=(1, 1), padding=(1, 1))\n",
            "          (4): BatchNorm2d(256, eps=1e-05, momentum=0.1, affine=True, track_running_stats=True)\n",
            "          (5): ReLU(inplace=True)\n",
            "        )\n",
            "      )\n",
            "    )\n",
            "  )\n",
            "  (down3): Down(\n",
            "    (maxpool_conv): Sequential(\n",
            "      (0): MaxPool2d(kernel_size=2, stride=2, padding=0, dilation=1, ceil_mode=False)\n",
            "      (1): DoubleConv(\n",
            "        (double_conv): Sequential(\n",
            "          (0): Conv2d(256, 512, kernel_size=(3, 3), stride=(1, 1), padding=(1, 1))\n",
            "          (1): BatchNorm2d(512, eps=1e-05, momentum=0.1, affine=True, track_running_stats=True)\n",
            "          (2): ReLU(inplace=True)\n",
            "          (3): Conv2d(512, 512, kernel_size=(3, 3), stride=(1, 1), padding=(1, 1))\n",
            "          (4): BatchNorm2d(512, eps=1e-05, momentum=0.1, affine=True, track_running_stats=True)\n",
            "          (5): ReLU(inplace=True)\n",
            "        )\n",
            "      )\n",
            "    )\n",
            "  )\n",
            "  (down4): Down4(\n",
            "    (maxpool_conv): Sequential(\n",
            "      (0): Dropout2d(p=0.5, inplace=False)\n",
            "      (1): MaxPool2d(kernel_size=2, stride=2, padding=0, dilation=1, ceil_mode=False)\n",
            "      (2): DoubleConv(\n",
            "        (double_conv): Sequential(\n",
            "          (0): Conv2d(512, 512, kernel_size=(3, 3), stride=(1, 1), padding=(1, 1))\n",
            "          (1): BatchNorm2d(512, eps=1e-05, momentum=0.1, affine=True, track_running_stats=True)\n",
            "          (2): ReLU(inplace=True)\n",
            "          (3): Conv2d(512, 512, kernel_size=(3, 3), stride=(1, 1), padding=(1, 1))\n",
            "          (4): BatchNorm2d(512, eps=1e-05, momentum=0.1, affine=True, track_running_stats=True)\n",
            "          (5): ReLU(inplace=True)\n",
            "        )\n",
            "      )\n",
            "      (3): Dropout2d(p=0.5, inplace=False)\n",
            "    )\n",
            "  )\n",
            "  (up1): Up(\n",
            "    (up): Upsample(scale_factor=2.0, mode=bilinear)\n",
            "    (conv): DoubleConv(\n",
            "      (double_conv): Sequential(\n",
            "        (0): Conv2d(1024, 512, kernel_size=(3, 3), stride=(1, 1), padding=(1, 1))\n",
            "        (1): BatchNorm2d(512, eps=1e-05, momentum=0.1, affine=True, track_running_stats=True)\n",
            "        (2): ReLU(inplace=True)\n",
            "        (3): Conv2d(512, 256, kernel_size=(3, 3), stride=(1, 1), padding=(1, 1))\n",
            "        (4): BatchNorm2d(256, eps=1e-05, momentum=0.1, affine=True, track_running_stats=True)\n",
            "        (5): ReLU(inplace=True)\n",
            "      )\n",
            "    )\n",
            "  )\n",
            "  (up2): Up(\n",
            "    (up): Upsample(scale_factor=2.0, mode=bilinear)\n",
            "    (conv): DoubleConv(\n",
            "      (double_conv): Sequential(\n",
            "        (0): Conv2d(512, 256, kernel_size=(3, 3), stride=(1, 1), padding=(1, 1))\n",
            "        (1): BatchNorm2d(256, eps=1e-05, momentum=0.1, affine=True, track_running_stats=True)\n",
            "        (2): ReLU(inplace=True)\n",
            "        (3): Conv2d(256, 128, kernel_size=(3, 3), stride=(1, 1), padding=(1, 1))\n",
            "        (4): BatchNorm2d(128, eps=1e-05, momentum=0.1, affine=True, track_running_stats=True)\n",
            "        (5): ReLU(inplace=True)\n",
            "      )\n",
            "    )\n",
            "  )\n",
            "  (up3): Up(\n",
            "    (up): Upsample(scale_factor=2.0, mode=bilinear)\n",
            "    (conv): DoubleConv(\n",
            "      (double_conv): Sequential(\n",
            "        (0): Conv2d(256, 128, kernel_size=(3, 3), stride=(1, 1), padding=(1, 1))\n",
            "        (1): BatchNorm2d(128, eps=1e-05, momentum=0.1, affine=True, track_running_stats=True)\n",
            "        (2): ReLU(inplace=True)\n",
            "        (3): Conv2d(128, 64, kernel_size=(3, 3), stride=(1, 1), padding=(1, 1))\n",
            "        (4): BatchNorm2d(64, eps=1e-05, momentum=0.1, affine=True, track_running_stats=True)\n",
            "        (5): ReLU(inplace=True)\n",
            "      )\n",
            "    )\n",
            "  )\n",
            "  (up4): Up(\n",
            "    (up): Upsample(scale_factor=2.0, mode=bilinear)\n",
            "    (conv): DoubleConv(\n",
            "      (double_conv): Sequential(\n",
            "        (0): Conv2d(128, 64, kernel_size=(3, 3), stride=(1, 1), padding=(1, 1))\n",
            "        (1): BatchNorm2d(64, eps=1e-05, momentum=0.1, affine=True, track_running_stats=True)\n",
            "        (2): ReLU(inplace=True)\n",
            "        (3): Conv2d(64, 64, kernel_size=(3, 3), stride=(1, 1), padding=(1, 1))\n",
            "        (4): BatchNorm2d(64, eps=1e-05, momentum=0.1, affine=True, track_running_stats=True)\n",
            "        (5): ReLU(inplace=True)\n",
            "      )\n",
            "    )\n",
            "  )\n",
            "  (outc): OutConv(\n",
            "    (conv): Conv2d(64, 3, kernel_size=(1, 1), stride=(1, 1))\n",
            "  )\n",
            ")\n"
          ]
        }
      ]
    },
    {
      "cell_type": "markdown",
      "source": [
        "Predict gray-img"
      ],
      "metadata": {
        "id": "MGGUsr3IKZPx"
      }
    },
    {
      "cell_type": "code",
      "source": [
        "n_parts = 2\n",
        "trans = transforms.ToPILImage()\n",
        "\n",
        "dim = img.shape\n",
        "imgP = img2parts(img, dim, n_parts)\n",
        "imgP = torch.from_numpy(imgP).type(torch.FloatTensor).unsqueeze(0).unsqueeze(0)\n",
        "\n",
        "cnt = 0\n",
        "for ji in range(n_parts):\n",
        "    for ii in range(n_parts):\n",
        "        predict_mask = imgP[:, :, :, :, cnt]\n",
        "\n",
        "        predict_mask = predict_mask.to(device=device, dtype=torch.float32)\n",
        "        predict_mask = model(predict_mask)\n",
        "        predict_mask = torch.sigmoid(predict_mask)\n",
        "        predict_mask = predict_mask.squeeze(0)\n",
        "        predict_mask = trans(predict_mask.cpu())\n",
        "\n",
        "        if ii == 0:\n",
        "            predict_mask_concatH = predict_mask\n",
        "        else:\n",
        "            predict_mask_concatH = get_concat_v(predict_mask_concatH, predict_mask)\n",
        "        cnt = cnt + 1\n",
        "    if ji == 0:\n",
        "        predict_mask_concatV = predict_mask_concatH\n",
        "    else:\n",
        "        predict_mask_concatV = get_concat_h(predict_mask_concatV, predict_mask_concatH)\n",
        "\n",
        "rgb_predict = np.asarray(predict_mask_concatV)\n",
        "plt.imshow(rgb_predict)\n",
        "plt.show()"
      ],
      "metadata": {
        "id": "o2a6QaaJgQ_g",
        "colab": {
          "base_uri": "https://localhost:8080/",
          "height": 269
        },
        "outputId": "8dccc8c7-4bc2-40c3-ca3b-73d7530e1f33"
      },
      "execution_count": 14,
      "outputs": [
        {
          "output_type": "display_data",
          "data": {
            "text/plain": [
              "<Figure size 432x288 with 1 Axes>"
            ],
            "image/png": "[encoded data removed]"
          },
          "metadata": {
            "needs_background": "light"
          }
        }
      ]
    },
    {
      "cell_type": "markdown",
      "source": [
        "Decode RGB predict"
      ],
      "metadata": {
        "id": "xipn73a0SFAj"
      }
    },
    {
      "cell_type": "code",
      "source": [
        "predict_mask = decodec_img3(predict_mask_concatV)\n",
        "\n",
        "sz = predict_mask.shape\n",
        "predict_mask_RGB = np.zeros((sz[0], sz[1], 3))\n",
        "predict_mask_RGB[:, :, 0] = (predict_mask==0)*255\n",
        "predict_mask_RGB[:, :, 1] = (predict_mask==1)*255\n",
        "predict_mask_RGB[:, :, 2] = (predict_mask==2)*255\n",
        "\n",
        "plt.imshow(predict_mask_RGB)\n",
        "plt.show()"
      ],
      "metadata": {
        "colab": {
          "base_uri": "https://localhost:8080/",
          "height": 286
        },
        "id": "md3Fi9eaPJjp",
        "outputId": "f5ed7cd5-c167-4bff-910e-97ccf2b9ed2d"
      },
      "execution_count": 30,
      "outputs": [
        {
          "output_type": "stream",
          "name": "stderr",
          "text": [
            "Clipping input data to the valid range for imshow with RGB data ([0..1] for floats or [0..255] for integers).\n"
          ]
        },
        {
          "output_type": "display_data",
          "data": {
            "text/plain": [
              "<Figure size 432x288 with 1 Axes>"
            ],
            "image/png": "[encoded data removed]"
          },
          "metadata": {
            "needs_background": "light"
          }
        }
      ]
    },
    {
      "cell_type": "markdown",
      "source": [
        "Select and show worms and skeletons"
      ],
      "metadata": {
        "id": "-mTB78MhLk_Q"
      }
    },
    {
      "cell_type": "code",
      "source": [
        "from skimage.measure import label, regionprops\n",
        "\n",
        "mask_labels = label(skl_mask)\n",
        "props = regionprops(mask_labels)\n",
        "\n",
        "worm_number = 3 #select worm\n",
        "nnw = 10\n",
        "r0, c0, r1, c1 = props[worm_number].bbox\n",
        "r0 = r0 - nnw\n",
        "c0 = c0 - nnw\n",
        "r1 = r1 + nnw*2\n",
        "c1 = c1 + nnw*2\n",
        "\n",
        "gray_crop = img[r0:r1, c0:c1]\n",
        "skl_crop = skl_mask[r0:r1, c0:c1]\n",
        "\n",
        "shape_arr = skl_crop.shape\n",
        "rgb_crop = np.zeros((shape_arr[0], shape_arr[1], 3))\n",
        "rgb_crop[:,:,0] = RGB[r0:r1, c0:c1, 0]\n",
        "rgb_crop[:,:,1] = RGB[r0:r1, c0:c1, 1]\n",
        "rgb_crop[:,:,2] = RGB[r0:r1, c0:c1, 2]\n",
        "\n",
        "rgb_predict_crop = np.zeros((shape_arr[0], shape_arr[1], 3))\n",
        "rgb_predict_crop[:,:,0] = predict_mask_RGB[r0:r1, c0:c1, 0]\n",
        "rgb_predict_crop[:,:,1] = predict_mask_RGB[r0:r1, c0:c1, 1]\n",
        "rgb_predict_crop[:,:,2] = predict_mask_RGB[r0:r1, c0:c1, 2]\n",
        "\n",
        "f, (ax0, ax1, ax2) = plt.subplots(1, 3)\n",
        "ax0.imshow(gray_crop, cmap='gray', vmin=0, vmax=255)\n",
        "ax1.imshow(rgb_crop)\n",
        "ax2.imshow(rgb_predict_crop)\n",
        "plt.show()"
      ],
      "metadata": {
        "colab": {
          "base_uri": "https://localhost:8080/",
          "height": 176
        },
        "id": "_8wSwSa-LhfH",
        "outputId": "2a9629cc-5c2a-4cd1-bcd9-b140372dedc9"
      },
      "execution_count": 58,
      "outputs": [
        {
          "output_type": "stream",
          "name": "stderr",
          "text": [
            "Clipping input data to the valid range for imshow with RGB data ([0..1] for floats or [0..255] for integers).\n",
            "Clipping input data to the valid range for imshow with RGB data ([0..1] for floats or [0..255] for integers).\n"
          ]
        },
        {
          "output_type": "display_data",
          "data": {
            "text/plain": [
              "<Figure size 432x288 with 3 Axes>"
            ],
            "image/png": "[encoded data removed]"
          },
          "metadata": {
            "needs_background": "light"
          }
        }
      ]
    }
  ]
}